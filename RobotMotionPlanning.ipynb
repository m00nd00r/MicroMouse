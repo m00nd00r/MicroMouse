{
 "cells": [
  {
   "cell_type": "markdown",
   "metadata": {},
   "source": [
    "# Robot Motion Planning Capstone Project \n",
    "## This notebook can be used to explore the code for this project  \n",
    "Run the following 3 cells to execute the core scripts to run the robot."
   ]
  },
  {
   "cell_type": "code",
   "execution_count": 5,
   "metadata": {
    "collapsed": true
   },
   "outputs": [],
   "source": [
    "import os\n",
    "import sys\n",
    "import tester,tester_1\n",
    "import solve_maze\n",
    "import matplotlib.pyplot as plt\n",
    "import strategy_test as st"
   ]
  },
  {
   "cell_type": "code",
   "execution_count": 965,
   "metadata": {
    "collapsed": true
   },
   "outputs": [],
   "source": [
    "os.environ['TEST_REPORT'] = 'False'\n",
    "os.environ['COVERAGE_RESET_THRESHOLD'] = 'goal'\n",
    "os.environ['MAP_STRATEGY'] = 'smart map 2'\n",
    "os.environ['MAPPER'] = 'mapper2'"
   ]
  },
  {
   "cell_type": "markdown",
   "metadata": {
    "collapsed": true
   },
   "source": [
    "## Choose test maze 1, 2, 3, 4 to run."
   ]
  },
  {
   "cell_type": "code",
   "execution_count": 966,
   "metadata": {
    "scrolled": true
   },
   "outputs": [
    {
     "name": "stdout",
     "output_type": "stream",
     "text": [
      "Starting run 0.\n",
      "Ending first run. Starting next run.\n",
      "Starting run 1.\n",
      "Goal found; run 1 completed!\n",
      "Task complete! Score: 79.667\n"
     ]
    }
   ],
   "source": [
    "%run tester.py test_maze_04.txt"
   ]
  },
  {
   "cell_type": "markdown",
   "metadata": {},
   "source": [
    "## The following 2 code cells are necessary to run for loading/reloading any scripts that are modified that get called by other scripts.\n",
    "\n",
    "For instance, when running tester_1.py, if any change is made to robot, one of the code blocks below must be run to see the changes to robot that get called by tester_1.py."
   ]
  },
  {
   "cell_type": "code",
   "execution_count": 42,
   "metadata": {
    "scrolled": true
   },
   "outputs": [
    {
     "name": "stdout",
     "output_type": "stream",
     "text": [
      "The autoreload extension is already loaded. To reload it, use:\n",
      "  %reload_ext autoreload\n"
     ]
    }
   ],
   "source": [
    "%load_ext autoreload\n",
    "%autoreload 2"
   ]
  },
  {
   "cell_type": "code",
   "execution_count": 946,
   "metadata": {
    "collapsed": true
   },
   "outputs": [],
   "source": [
    "%reload_ext autoreload\n",
    "%autoreload 2"
   ]
  },
  {
   "cell_type": "markdown",
   "metadata": {},
   "source": [
    "## COVERAGE_RESET_THRESHOLD\n",
    "## Enter a percentage (1 - 100) of the total maze to map before resetting to run 2.\n",
    "## To reset the robot upon finding the goal enter 'goal'. Default will be goal."
   ]
  },
  {
   "cell_type": "code",
   "execution_count": 924,
   "metadata": {
    "collapsed": true
   },
   "outputs": [],
   "source": [
    "os.environ['COVERAGE_RESET_THRESHOLD'] = '97'"
   ]
  },
  {
   "cell_type": "code",
   "execution_count": 928,
   "metadata": {
    "collapsed": true
   },
   "outputs": [],
   "source": [
    "os.environ['COVERAGE_RESET_THRESHOLD'] = 'goal'"
   ]
  },
  {
   "cell_type": "markdown",
   "metadata": {},
   "source": [
    "## MAP_STRATEGY\n",
    "## Enter an explore() controller to use for mapping the maze:\n",
    "## 'random', 'avoid dead ends', 'smart map 1', 'smart map 2'\n",
    "## Default will be smart map 2."
   ]
  },
  {
   "cell_type": "code",
   "execution_count": 708,
   "metadata": {
    "collapsed": true
   },
   "outputs": [],
   "source": [
    "os.environ['MAP_STRATEGY'] = 'random'"
   ]
  },
  {
   "cell_type": "code",
   "execution_count": 45,
   "metadata": {
    "collapsed": true
   },
   "outputs": [],
   "source": [
    "os.environ['MAP_STRATEGY'] = 'avoid dead ends'"
   ]
  },
  {
   "cell_type": "code",
   "execution_count": 220,
   "metadata": {
    "collapsed": true
   },
   "outputs": [],
   "source": [
    "os.environ['MAP_STRATEGY'] = 'smart map 1'"
   ]
  },
  {
   "cell_type": "code",
   "execution_count": 820,
   "metadata": {
    "collapsed": true
   },
   "outputs": [],
   "source": [
    "os.environ['MAP_STRATEGY'] = 'smart map 2'"
   ]
  },
  {
   "cell_type": "markdown",
   "metadata": {},
   "source": [
    "## TEST_REPORT \n",
    "## Set to True if you want tester_1.py to return reporting on performance. Default is False."
   ]
  },
  {
   "cell_type": "code",
   "execution_count": 386,
   "metadata": {
    "collapsed": true
   },
   "outputs": [],
   "source": [
    "os.environ['TEST_REPORT'] = 'False'"
   ]
  },
  {
   "cell_type": "code",
   "execution_count": 815,
   "metadata": {
    "collapsed": true
   },
   "outputs": [],
   "source": [
    "os.environ['TEST_REPORT'] = 'True'"
   ]
  },
  {
   "cell_type": "markdown",
   "metadata": {},
   "source": [
    "## MAPPER\n",
    "## Robot maps 1 cell at a time or as many as possible based on sensor values:\n",
    "## 'mapper 1', 'mapper 2'"
   ]
  },
  {
   "cell_type": "code",
   "execution_count": 926,
   "metadata": {
    "collapsed": true
   },
   "outputs": [],
   "source": [
    "os.environ['MAPPER'] = 'mapper1'"
   ]
  },
  {
   "cell_type": "code",
   "execution_count": 931,
   "metadata": {
    "collapsed": true
   },
   "outputs": [],
   "source": [
    "os.environ['MAPPER'] = 'mapper2'"
   ]
  },
  {
   "cell_type": "markdown",
   "metadata": {},
   "source": [
    "## Choose test maze 1, 2, 3, 4 to run."
   ]
  },
  {
   "cell_type": "code",
   "execution_count": 935,
   "metadata": {
    "scrolled": true
   },
   "outputs": [
    {
     "name": "stdout",
     "output_type": "stream",
     "text": [
      "Coverage reset threshold set to goal.\n",
      "Maze map strategy used is smart map 2.\n",
      "\n",
      "Mapper method is mapper2.\n",
      "\n",
      "Starting run 0.\n",
      "\n",
      "Found Goal in 73 moves.\n",
      "Percent of cell walls mapped until goal found is 70%.\n",
      "\n",
      "Number of walls mapped per cell:\n",
      "[3  1  1  1  1  1  1  1  2  3  4  4]\n",
      "[3  0  0  0  0  0  0  3  4  4  4  4]\n",
      "[3  0  0  0  2  2  3  4  4  3  3  4]\n",
      "[3  0  1  1  4  3  4  4  4  4  4  4]\n",
      "[3  3  4  4  4  4  4  3  3  4  2  2]\n",
      "[4  4  4  4  4  3  4  4  4  4  1  1]\n",
      "[4  4  4  4  4  2  3  4  4  3  0  1]\n",
      "[4  4  4  4  4  4  4  3  2  2  0  1]\n",
      "[4  4  4  4  4  4  4  4  3  0  0  1]\n",
      "[4  4  4  4  4  4  4  4  3  0  0  1]\n",
      "[4  4  4  4  4  4  4  4  1  0  0  1]\n",
      "[4  4  4  4  4  4  4  3  1  1  1  2]\n",
      "\n",
      "Percent of total walls mapped during explore is 70%.\n",
      "Total number of moves for 1st run is 73.\n",
      "\n",
      "Number of times each cell visited:\n",
      "[ 0  0  0  0  0  0  0  0  0  0  1  1]\n",
      "[ 0  0  0  0  0  0  0  0  1  1  1  1]\n",
      "[ 0  0  0  0  0  0  0  1  1  0  0  1]\n",
      "[ 0  0  0  0  0  0  1  1  0  1  1  1]\n",
      "[ 0  0  1  1  1  1  1  0  0  1  0  0]\n",
      "[ 0  1  1  1  1  0  1  1  1  1  0  0]\n",
      "[ 0  1  1  2  1  0  0  1  1  0  0  0]\n",
      "[ 0  2  1  2  2  1  1  0  0  0  0  0]\n",
      "[ 0  2  2  2  0  0  1  1  0  0  0  0]\n",
      "[ 1  1  1  2  1  1  0  1  0  0  0  0]\n",
      "[ 1  0  1  1  1  1  1  1  0  0  0  0]\n",
      "[ 1  0  1  1  1  1  1  0  0  0  0  0]\n",
      "\n",
      "\n",
      "Ending first run. Starting next run.\n",
      "Starting run 1.\n",
      "\n",
      "Route to goal:\n",
      "[-  -  -  -  -  -  -  -  -  -  -  -]\n",
      "[-  -  -  -  -  -  -  -  R  R  -  -]\n",
      "[-  -  -  -  -  -  -  R  L  #  -  -]\n",
      "[-  -  -  -  R  #  #  L  -  #  -  -]\n",
      "[-  -  -  -  #  -  -  -  -  #  -  -]\n",
      "[R  #  R  -  #  -  G  L  L  R  -  -]\n",
      "[#  -  L  R  #  -  -  R  R  -  -  -]\n",
      "[#  -  -  L  L  -  -  -  -  -  -  -]\n",
      "[#  -  -  -  -  -  -  -  -  -  -  -]\n",
      "[#  -  -  -  -  -  -  -  -  -  -  -]\n",
      "[#  -  -  -  -  -  -  -  -  -  -  -]\n",
      "[S  -  -  -  -  -  -  -  -  -  -  -]\n",
      "\n",
      "Total length of route is 33 grid cells.\n",
      "Total movements to goal is 23.\n",
      "Total rotations to goal is 18.\n",
      "Total compute time is 0.08759 seconds.\n",
      "Goal found; run 1 completed!\n",
      "Task complete! Score: 25.433\n"
     ]
    }
   ],
   "source": [
    "%run tester_1.py test_maze_01.txt"
   ]
  },
  {
   "cell_type": "markdown",
   "metadata": {},
   "source": [
    "## Use the command below to open a window that overlays the goal route onto the maze.\n",
    "\n",
    "Either Jupyter or Anaconda is not able to re-open the turtle window with repeated calls. So, it has to be run through the command shell.\n",
    "\n",
    "Click anywhere in the open turtle window to close it."
   ]
  },
  {
   "cell_type": "code",
   "execution_count": 627,
   "metadata": {
    "scrolled": true
   },
   "outputs": [
    {
     "name": "stdout",
     "output_type": "stream",
     "text": [
      "Coverage reset threshold set to 97%.\n",
      "Maze map strategy used is smart map 2.\n",
      "\n",
      "Mapper method is mapper2.\n",
      "\n",
      "Starting run 0.\n",
      "\n",
      "Found Goal in 305 moves.\n",
      "Percent of cell walls mapped until goal found is 97%.\n",
      "\n",
      "Number of walls mapped per cell:\n",
      "[4  4  4  4  4  4  4  4  4  4  4  4  4  4  4  4]\n",
      "[4  4  4  4  4  4  4  4  4  4  4  4  4  4  4  4]\n",
      "[4  4  4  4  4  4  4  4  4  4  4  4  4  4  4  4]\n",
      "[4  4  4  4  4  4  4  4  4  4  4  4  4  4  4  4]\n",
      "[4  4  4  4  4  4  4  4  4  4  4  4  4  4  4  4]\n",
      "[4  4  4  4  4  4  4  4  4  4  4  4  4  4  4  4]\n",
      "[4  4  4  4  4  4  4  3  4  4  4  4  4  4  4  4]\n",
      "[4  4  4  4  4  4  4  0  3  4  4  4  4  4  4  4]\n",
      "[4  4  4  4  3  4  4  3  4  4  4  4  4  4  4  4]\n",
      "[4  4  4  4  1  3  4  4  4  4  4  4  4  4  4  4]\n",
      "[4  4  4  4  2  1  4  4  4  4  4  4  4  4  4  4]\n",
      "[4  4  4  4  4  2  1  3  4  4  4  4  4  2  3  4]\n",
      "[4  4  4  4  4  4  3  3  4  4  4  4  4  4  4  4]\n",
      "[4  4  4  4  4  4  4  4  4  4  4  4  4  4  4  4]\n",
      "[4  4  4  4  4  4  4  4  4  4  4  4  4  4  4  4]\n",
      "[4  4  4  4  4  4  4  4  4  4  4  4  4  4  4  4]\n",
      "\n",
      "Percent of total walls mapped during explore is 97%.\n",
      "Total number of moves for 1st run is 305.\n",
      "\n",
      "Number of times each cell visited:\n",
      "[ 2  2  2  3  2  2  2  2  1  2  1  1  1  1  1  1]\n",
      "[ 2  2  2  3  1  1  1  2  2  2  1  1  1  1  0  1]\n",
      "[ 2  2  2  3  1  1  1  1  1  2  1  1  1  1  1  1]\n",
      "[ 2  2  2  2  2  2  2  2  1  1  1  1  2  1  1  1]\n",
      "[ 2  3  4  3  3  2  2  2  1  1  1  1  1  1  1  1]\n",
      "[ 2  2  3  4  2  2  1  1  2  1  1  1  0  0  1  1]\n",
      "[ 1  2  3  3  1  1  1  0  2  2  2  2  2  2  2  1]\n",
      "[ 1  2  2  2  1  1  0  0  0  1  1  2  1  1  0  0]\n",
      "[ 1  2  2  2  0  1  1  0  1  1  1  1  1  2  1  0]\n",
      "[ 1  1  1  2  0  0  2  2  2  2  1  1  0  1  1  0]\n",
      "[ 1  1  1  1  0  0  1  1  1  1  2  2  1  1  1  1]\n",
      "[ 0  0  1  1  1  0  0  0  1  1  1  0  0  0  0  1]\n",
      "[ 1  1  2  1  1  2  0  0  0  1  1  1  1  1  0  1]\n",
      "[ 1  1  2  2  2  2  1  1  1  1  1  1  1  1  0  1]\n",
      "[ 1  1  0  0  0  1  1  1  1  1  1  1  1  1  1  1]\n",
      "[ 1  1  1  1  1  1  0  1  1  1  1  1  0  0  0  0]\n",
      "\n",
      "\n",
      "Ending first run. Starting next run.\n",
      "Starting run 1.\n",
      "\n",
      "Route to goal:\n",
      "[R  #  #  #  #  #  #  R  -  -  -  -  -  -  -  -]\n",
      "[#  -  -  -  -  -  -  L  R  -  -  -  -  -  -  -]\n",
      "[#  -  -  -  -  -  -  -  L  #  #  #  R  -  -  -]\n",
      "[#  -  -  -  -  -  -  -  -  -  -  -  #  -  -  -]\n",
      "[#  -  -  -  -  -  -  -  -  -  -  -  #  -  -  -]\n",
      "[#  -  -  -  -  -  -  -  -  -  -  -  L  #  R  -]\n",
      "[#  -  -  -  -  -  -  -  -  -  -  L  #  #  R  -]\n",
      "[#  -  -  -  -  -  -  -  -  -  -  #  -  -  -  -]\n",
      "[#  -  -  -  -  -  -  -  G  -  L  R  -  -  -  -]\n",
      "[#  -  -  -  -  -  -  -  R  #  R  -  -  -  -  -]\n",
      "[#  -  -  -  -  -  -  -  -  -  -  -  -  -  -  -]\n",
      "[R  #  L  -  -  -  -  -  -  -  -  -  -  -  -  -]\n",
      "[R  #  L  -  -  -  -  -  -  -  -  -  -  -  -  -]\n",
      "[#  -  -  -  -  -  -  -  -  -  -  -  -  -  -  -]\n",
      "[#  -  -  -  -  -  -  -  -  -  -  -  -  -  -  -]\n",
      "[S  -  -  -  -  -  -  -  -  -  -  -  -  -  -  -]\n",
      "\n",
      "Total length of route is 50 grid cells.\n",
      "Total movements to goal is 33.\n",
      "Total rotations to goal is 24.\n",
      "Total compute time is 0.1445 seconds.\n",
      "Goal found; run 1 completed!\n",
      "Task complete! Score: 43.167\n",
      "Coverage reset threshold set to 97%.\n",
      "Maze map strategy used is smart map 2.\n",
      "\n",
      "Mapper method is mapper2.\n",
      "\n",
      "Starting run 0.\n",
      "\n",
      "Found Goal in 305 moves.\n",
      "Percent of cell walls mapped until goal found is 97%.\n",
      "\n",
      "Number of walls mapped per cell:\n",
      "[4  4  4  4  4  4  4  4  4  4  4  4  4  4  4  4]\n",
      "[4  4  4  4  4  4  4  4  4  4  4  4  4  4  4  4]\n",
      "[4  4  4  4  4  4  4  4  4  4  4  4  4  4  4  4]\n",
      "[4  4  4  4  4  4  4  4  4  4  4  4  4  4  4  4]\n",
      "[4  4  4  4  4  4  4  4  4  4  4  4  4  4  4  4]\n",
      "[4  4  4  4  4  4  4  4  4  4  4  4  4  4  4  4]\n",
      "[4  4  4  4  4  4  4  3  4  4  4  4  4  4  4  4]\n",
      "[4  4  4  4  4  4  4  0  3  4  4  4  4  4  4  4]\n",
      "[4  4  4  4  3  4  4  3  4  4  4  4  4  4  4  4]\n",
      "[4  4  4  4  1  3  4  4  4  4  4  4  4  4  4  4]\n",
      "[4  4  4  4  2  1  4  4  4  4  4  4  4  4  4  4]\n",
      "[4  4  4  4  4  2  1  3  4  4  4  4  4  2  3  4]\n",
      "[4  4  4  4  4  4  3  3  4  4  4  4  4  4  4  4]\n",
      "[4  4  4  4  4  4  4  4  4  4  4  4  4  4  4  4]\n",
      "[4  4  4  4  4  4  4  4  4  4  4  4  4  4  4  4]\n",
      "[4  4  4  4  4  4  4  4  4  4  4  4  4  4  4  4]\n",
      "\n",
      "Percent of total walls mapped during explore is 97%.\n",
      "Total number of moves for 1st run is 305.\n",
      "\n",
      "Number of times each cell visited:\n",
      "[ 2  2  2  3  2  2  2  2  1  2  1  1  1  1  1  1]\n",
      "[ 2  2  2  3  1  1  1  2  2  2  1  1  1  1  0  1]\n",
      "[ 2  2  2  3  1  1  1  1  1  2  1  1  1  1  1  1]\n",
      "[ 2  2  2  2  2  2  2  2  1  1  1  1  2  1  1  1]\n",
      "[ 2  3  4  3  3  2  2  2  1  1  1  1  1  1  1  1]\n",
      "[ 2  2  3  4  2  2  1  1  2  1  1  1  0  0  1  1]\n",
      "[ 1  2  3  3  1  1  1  0  2  2  2  2  2  2  2  1]\n",
      "[ 1  2  2  2  1  1  0  0  0  1  1  2  1  1  0  0]\n",
      "[ 1  2  2  2  0  1  1  0  1  1  1  1  1  2  1  0]\n",
      "[ 1  1  1  2  0  0  2  2  2  2  1  1  0  1  1  0]\n",
      "[ 1  1  1  1  0  0  1  1  1  1  2  2  1  1  1  1]\n",
      "[ 0  0  1  1  1  0  0  0  1  1  1  0  0  0  0  1]\n",
      "[ 1  1  2  1  1  2  0  0  0  1  1  1  1  1  0  1]\n",
      "[ 1  1  2  2  2  2  1  1  1  1  1  1  1  1  0  1]\n",
      "[ 1  1  0  0  0  1  1  1  1  1  1  1  1  1  1  1]\n",
      "[ 1  1  1  1  1  1  0  1  1  1  1  1  0  0  0  0]\n",
      "\n",
      "\n",
      "Ending first run. Starting next run.\n",
      "Starting run 1.\n",
      "\n",
      "Route to goal:\n",
      "[R  #  #  #  #  #  #  R  -  -  -  -  -  -  -  -]\n",
      "[#  -  -  -  -  -  -  L  R  -  -  -  -  -  -  -]\n",
      "[#  -  -  -  -  -  -  -  L  #  #  #  R  -  -  -]\n",
      "[#  -  -  -  -  -  -  -  -  -  -  -  #  -  -  -]\n",
      "[#  -  -  -  -  -  -  -  -  -  -  -  #  -  -  -]\n",
      "[#  -  -  -  -  -  -  -  -  -  -  -  L  #  R  -]\n",
      "[#  -  -  -  -  -  -  -  -  -  -  L  #  #  R  -]\n",
      "[#  -  -  -  -  -  -  -  -  -  -  #  -  -  -  -]\n",
      "[#  -  -  -  -  -  -  -  G  -  L  R  -  -  -  -]\n",
      "[#  -  -  -  -  -  -  -  R  #  R  -  -  -  -  -]\n",
      "[#  -  -  -  -  -  -  -  -  -  -  -  -  -  -  -]\n",
      "[R  #  L  -  -  -  -  -  -  -  -  -  -  -  -  -]\n",
      "[R  #  L  -  -  -  -  -  -  -  -  -  -  -  -  -]\n",
      "[#  -  -  -  -  -  -  -  -  -  -  -  -  -  -  -]\n",
      "[#  -  -  -  -  -  -  -  -  -  -  -  -  -  -  -]\n",
      "[S  -  -  -  -  -  -  -  -  -  -  -  -  -  -  -]\n",
      "\n",
      "Total length of route is 50 grid cells.\n",
      "Total movements to goal is 33.\n",
      "Total rotations to goal is 24.\n",
      "Total compute time is 0.1566 seconds.\n",
      "Goal found; run 1 completed!\n",
      "Task complete! Score: 43.167\n"
     ]
    }
   ],
   "source": [
    "!python tester_1.py test_maze_03.txt showroute"
   ]
  },
  {
   "cell_type": "markdown",
   "metadata": {},
   "source": [
    "## Use the command below to run the solve_maze.py program.\n",
    "## This will take any maze in the particular format for this project and generate a map of the maze that can be used by the A\\* search algorithm to find the shortest route.\n",
    "\n",
    "This is used to help determine whether the robot's mapping and planning algorithms found the fastest possible route.\n",
    "\n",
    "There is also a D\\* Lite search implementation that can be used to verify A\\*."
   ]
  },
  {
   "cell_type": "code",
   "execution_count": 890,
   "metadata": {
    "scrolled": true
   },
   "outputs": [
    {
     "name": "stdout",
     "output_type": "stream",
     "text": [
      "[R  #  #  #  #  #  #  #  #  #  #  R  -  -  -  -]\n",
      "[#  -  -  -  -  -  -  -  -  -  -  #  -  -  -  -]\n",
      "[#  -  -  -  -  -  -  -  -  -  -  #  -  -  R  R]\n",
      "[R  L  -  -  -  -  -  -  -  -  -  L  #  #  L  #]\n",
      "[-  #  -  -  -  -  L  #  #  L  -  -  -  -  -  #]\n",
      "[R  L  -  -  -  -  #  R  #  L  -  -  -  -  -  #]\n",
      "[#  -  -  -  -  -  #  R  #  L  -  -  -  -  -  #]\n",
      "[#  -  -  -  -  -  #  -  -  #  -  -  -  -  -  #]\n",
      "[#  -  -  -  -  -  L  G  -  #  -  -  -  -  -  #]\n",
      "[#  -  -  -  -  -  -  -  -  #  -  -  -  -  -  #]\n",
      "[R  L  -  -  -  -  -  -  -  #  -  -  -  -  -  #]\n",
      "[R  L  -  -  -  -  -  -  -  #  -  -  L  #  #  R]\n",
      "[#  -  -  -  -  -  -  R  #  L  -  -  #  -  -  -]\n",
      "[#  -  -  -  -  -  -  #  -  -  -  -  #  -  -  -]\n",
      "[#  -  -  -  -  R  #  L  -  -  -  -  L  #  #  R]\n",
      "[S  -  -  -  -  R  #  #  #  #  #  #  #  #  #  R]\n",
      "\n",
      "Total length of route is 95 grid cells.\n",
      "Total movements to goal is 61.\n",
      "Total rotations required is 31.\n",
      "Straightness of route is 0.673684210526.\n",
      "Routing cost is 0.968421052632.\n",
      "Total compute time is 0.05238 seconds.\n"
     ]
    }
   ],
   "source": [
    "%run solve_maze test_maze_04.txt"
   ]
  },
  {
   "cell_type": "markdown",
   "metadata": {},
   "source": [
    "## Use the command below to overlay the best route for any maze onto the turtle window display of the maze."
   ]
  },
  {
   "cell_type": "code",
   "execution_count": 878,
   "metadata": {},
   "outputs": [
    {
     "name": "stdout",
     "output_type": "stream",
     "text": [
      "\n",
      "Total length of route is 93 grid cells.\n",
      "Total movements to goal is 63.\n",
      "Total rotations required is 33.\n",
      "Straightness of route is 0.645161290323.\n",
      "Routing cost is 1.03225806452.\n",
      "Total compute time is 182.1 seconds.\n"
     ]
    }
   ],
   "source": [
    "!python solve_maze.py test_maze_04.txt showroute"
   ]
  },
  {
   "cell_type": "markdown",
   "metadata": {
    "collapsed": true
   },
   "source": [
    "## The function below is used to test the random_explore() and avoid_dead_end_explore() methods along with the update_map1() and update_map2() methods with each one."
   ]
  },
  {
   "cell_type": "code",
   "execution_count": 959,
   "metadata": {},
   "outputs": [
    {
     "name": "stdout",
     "output_type": "stream",
     "text": [
      "Running the random explorer and the mapper1 mapper through 500 trials on test_maze_01.txt:\n",
      "robot failed to find goal 61 times with average score of 38.2018181818\n",
      "robot's best score is 26.3 and worst score is 56.1333333333.\n",
      "\n",
      "Running the random explorer and the mapper2 mapper through 500 trials on test_maze_01.txt:\n",
      "robot failed to find goal 67 times with average score of 35.8176651306\n",
      "robot's best score is 24.3 and worst score is 56.5333333333.\n",
      "\n",
      "Running the avoid dead ends explorer and the mapper1 mapper through 500 trials on test_maze_01.txt:\n",
      "robot failed to find goal 57 times with average score of 37.9997747748\n",
      "robot's best score is 25.3 and worst score is 55.9333333333.\n",
      "\n",
      "Running the avoid dead ends explorer and the mapper2 mapper through 500 trials on test_maze_01.txt:\n",
      "robot failed to find goal 55 times with average score of 36.0727952167\n",
      "robot's best score is 24.9333333333 and worst score is 56.5333333333.\n",
      "\n",
      "Running the smart map 1 explorer and the mapper1 mapper through 500 trials on test_maze_01.txt:\n",
      "robot failed to find goal 0 times with average score of 30.346506986\n",
      "robot's best score is 27.0333333333 and worst score is 33.6333333333.\n",
      "\n",
      "Running the smart map 1 explorer and the mapper2 mapper through 500 trials on test_maze_01.txt:\n",
      "robot failed to find goal 0 times with average score of 26.2379241517\n",
      "robot's best score is 25.4333333333 and worst score is 32.9.\n",
      "\n"
     ]
    }
   ],
   "source": [
    "st.trials('test_maze_01.txt', num = 500)"
   ]
  },
  {
   "cell_type": "code",
   "execution_count": 960,
   "metadata": {},
   "outputs": [
    {
     "name": "stdout",
     "output_type": "stream",
     "text": [
      "Running the random explorer and the mapper1 mapper through 500 trials on test_maze_02.txt:\n",
      "robot failed to find goal 155 times with average score of 50.506743738\n",
      "robot's best score is 37.2 and worst score is 69.3333333333.\n",
      "\n",
      "Running the random explorer and the mapper2 mapper through 500 trials on test_maze_02.txt:\n",
      "robot failed to find goal 146 times with average score of 46.7487323944\n",
      "robot's best score is 33.0 and worst score is 63.8333333333.\n",
      "\n",
      "Running the avoid dead ends explorer and the mapper1 mapper through 500 trials on test_maze_02.txt:\n",
      "robot failed to find goal 136 times with average score of 50.2694063927\n",
      "robot's best score is 36.2333333333 and worst score is 71.5.\n",
      "\n",
      "Running the avoid dead ends explorer and the mapper2 mapper through 500 trials on test_maze_02.txt:\n",
      "robot failed to find goal 141 times with average score of 47.3228703704\n",
      "robot's best score is 33.5333333333 and worst score is 64.2.\n",
      "\n",
      "Running the smart map 1 explorer and the mapper1 mapper through 500 trials on test_maze_02.txt:\n",
      "robot failed to find goal 0 times with average score of 49.4771789754\n",
      "robot's best score is 39.4 and worst score is 60.9333333333.\n",
      "\n",
      "Running the smart map 1 explorer and the mapper2 mapper through 500 trials on test_maze_02.txt:\n",
      "robot failed to find goal 0 times with average score of 38.64750499\n",
      "robot's best score is 34.4 and worst score is 56.5333333333.\n",
      "\n"
     ]
    }
   ],
   "source": [
    "st.trials('test_maze_02.txt', num = 500)"
   ]
  },
  {
   "cell_type": "code",
   "execution_count": 963,
   "metadata": {
    "scrolled": false
   },
   "outputs": [
    {
     "name": "stdout",
     "output_type": "stream",
     "text": [
      "Running the random explorer and the mapper1 mapper through 500 trials on test_maze_03.txt:\n",
      "robot failed to find goal 146 times with average score of 51.6936150235\n",
      "robot's best score is 36.1333333333 and worst score is 73.1333333333.\n",
      "\n",
      "Running the random explorer and the mapper2 mapper through 500 trials on test_maze_03.txt:\n",
      "robot failed to find goal 168 times with average score of 48.9725725726\n",
      "robot's best score is 34.8 and worst score is 66.1666666667.\n",
      "\n",
      "Running the avoid dead ends explorer and the mapper1 mapper through 500 trials on test_maze_03.txt:\n",
      "robot failed to find goal 148 times with average score of 52.2143531634\n",
      "robot's best score is 36.7333333333 and worst score is 72.9.\n",
      "\n",
      "Running the avoid dead ends explorer and the mapper2 mapper through 500 trials on test_maze_03.txt:\n",
      "robot failed to find goal 161 times with average score of 49.5609803922\n",
      "robot's best score is 35.8333333333 and worst score is 65.5666666667.\n",
      "\n",
      "Running the smart map 1 explorer and the mapper1 mapper through 500 trials on test_maze_03.txt:\n",
      "robot failed to find goal 0 times with average score of 50.1265469062\n",
      "robot's best score is 43.2333333333 and worst score is 71.5333333333.\n",
      "\n",
      "Running the smart map 1 explorer and the mapper2 mapper through 500 trials on test_maze_03.txt:\n",
      "robot failed to find goal 0 times with average score of 40.2321357285\n",
      "robot's best score is 39.2666666667 and worst score is 51.4333333333.\n",
      "\n"
     ]
    }
   ],
   "source": [
    "st.trials('test_maze_03.txt', num = 500)"
   ]
  },
  {
   "cell_type": "code",
   "execution_count": 964,
   "metadata": {
    "scrolled": false
   },
   "outputs": [
    {
     "name": "stdout",
     "output_type": "stream",
     "text": [
      "Running the random explorer and the mapper1 mapper through 500 trials on test_maze_04.txt:\n",
      "robot failed to find goal 241 times with average score of 87.0506410256\n",
      "robot's best score is 69.0666666667 and worst score is 120.666666667.\n",
      "\n",
      "Running the random explorer and the mapper2 mapper through 500 trials on test_maze_04.txt:\n",
      "robot failed to find goal 245 times with average score of 84.3165364583\n",
      "robot's best score is 68.5666666667 and worst score is 104.166666667.\n",
      "\n",
      "Running the avoid dead ends explorer and the mapper1 mapper through 500 trials on test_maze_04.txt:\n",
      "robot failed to find goal 219 times with average score of 87.1052009456\n",
      "robot's best score is 68.3 and worst score is 118.266666667.\n",
      "\n",
      "Running the avoid dead ends explorer and the mapper2 mapper through 500 trials on test_maze_04.txt:\n",
      "robot failed to find goal 198 times with average score of 83.2762376238\n",
      "robot's best score is 67.2666666667 and worst score is 105.766666667.\n",
      "\n",
      "Running the smart map 1 explorer and the mapper1 mapper through 500 trials on test_maze_04.txt:\n",
      "robot failed to find goal 0 times with average score of 80.9734530938\n",
      "robot's best score is 76.9333333333 and worst score is 91.8.\n",
      "\n",
      "Running the smart map 1 explorer and the mapper2 mapper through 500 trials on test_maze_04.txt:\n",
      "robot failed to find goal 0 times with average score of 81.173586161\n",
      "robot's best score is 73.8666666667 and worst score is 91.3.\n",
      "\n"
     ]
    }
   ],
   "source": [
    "st.trials('test_maze_04.txt', num = 500)"
   ]
  },
  {
   "cell_type": "code",
   "execution_count": null,
   "metadata": {
    "collapsed": true
   },
   "outputs": [],
   "source": []
  }
 ],
 "metadata": {
  "kernelspec": {
   "display_name": "Python 2",
   "language": "python",
   "name": "python2"
  },
  "language_info": {
   "codemirror_mode": {
    "name": "ipython",
    "version": 2
   },
   "file_extension": ".py",
   "mimetype": "text/x-python",
   "name": "python",
   "nbconvert_exporter": "python",
   "pygments_lexer": "ipython2",
   "version": "2.7.13"
  }
 },
 "nbformat": 4,
 "nbformat_minor": 2
}
