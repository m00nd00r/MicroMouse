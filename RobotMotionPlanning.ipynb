{
 "cells": [
  {
   "cell_type": "markdown",
   "metadata": {},
   "source": [
    "# Robot Motion Planning Capstone Project\n",
    "## John Kinstler - 07/26/17\n",
    "### Project files at https://github.com/m00nd00r/MicroMouse\n",
    "\n",
    "### Project Overview\n",
    "The goal of robot motion planning is to find a path for a robot to follow from a starting point to some distant waypoint without colliding with obstacles in the world (also called the configuration space) the robot is moving through. In this particular iteration I will be creating and testing algorithms to allow a robot mouse to plot and navigate a virtual maze.\n",
    "\n",
    "Motion planning has applications in autonomous and automation robotics, in video game artificial intelligence, architectural design, medicine and biology. It is further used in the nascent self-driving car industry.\n",
    "\n",
    "My own particular interest in this area arose from implementing reinforcement learning to teach a Smart Cab to learn the rules of the road for a previous project. Here, rather, different algorithms will be explored as a potential solution.\n",
    "\n",
    "### Problem Statement\n",
    "This project takes inspiration from [Micromouse](https://en.wikipedia.org/wiki/Micromouse) competitions, wherein a robot mouse is tasked with plotting a path from the lower left corner of the maze to a 4 square center where only one of the squares has an opening. The robot mouse may make 2 runs in a given maze. In the first run, the robot mouse tries to map out the maze to figure out the path to the center. In the second run, the robot mouse attempts to reach the center in the fastest time possible, using what it has previously learned.\n",
    "\n",
    "In this project, I will create functions to control a virtual robot to navigate a virtual maze. A simplified model of the world is provided along with specifications for the maze and robot; the goal is to obtain the fastest times possible in a series of test mazes.\n",
    "\n",
    "There are a variety of motion planning algorithms which are detailed [here](https://en.wikipedia.org/wiki/Motion_planning). Some further discussion on this topic can be found [here](http://www.gamasutra.com/blogs/MatthewKlingensmith/20130907/199787/Overview_of_Motion_Planning.php), wherein the author describes 3 algorithms most commonly used to solve motion planning problems which are A\\* grid search, Visibility Graphs, and Flow Fields. Alternatively, I could explore more typical machine learning algorithms such as Neural Networks or Reinforcement Learning.\n",
    "\n",
    "This project will likely be best accomplished using the A\\* algorithm for which implementation guidance can be found [here](http://www.redblobgames.com/). \n",
    "\n",
    "I have also found another algorithm called [D\\*-Lite](https://en.wikipedia.org/wiki/D*#D.2A_Lite) search which takes a bit of different approach to A\\*. The implementation I used for this D\\*-Lite was borrowed from Sebastian Thrun's AI-Robotics class on Udacity."
   ]
  },
  {
   "cell_type": "markdown",
   "metadata": {},
   "source": [
    "To see how the basic code works, run the following 3 cells to execute the core scripts to run the robot."
   ]
  },
  {
   "cell_type": "code",
   "execution_count": null,
   "metadata": {
    "collapsed": true
   },
   "outputs": [],
   "source": [
    "import os\n",
    "import sys\n",
    "import tester,tester_1\n",
    "import solve_maze\n",
    "import matplotlib.pyplot as plt\n",
    "import strategy_test as st"
   ]
  },
  {
   "cell_type": "code",
   "execution_count": null,
   "metadata": {
    "collapsed": true
   },
   "outputs": [],
   "source": [
    "os.environ['TEST_REPORT'] = 'False'\n",
    "os.environ['COVERAGE_RESET_THRESHOLD'] = 'goal'\n",
    "os.environ['MAP_STRATEGY'] = 'smart map 2'\n",
    "os.environ['MAPPER'] = 'mapper2'"
   ]
  },
  {
   "cell_type": "markdown",
   "metadata": {
    "collapsed": true
   },
   "source": [
    "## Choose test maze 1, 2, 3, 4 to run."
   ]
  },
  {
   "cell_type": "code",
   "execution_count": null,
   "metadata": {
    "scrolled": true
   },
   "outputs": [],
   "source": [
    "%run tester.py test_maze_04.txt"
   ]
  },
  {
   "cell_type": "markdown",
   "metadata": {},
   "source": [
    "## The following 2 code cells are necessary to run for loading/reloading any scripts that are modified that get called by other scripts.\n",
    "\n",
    "For instance, when running tester_1.py, if any change is made to robot, one of the code blocks below must be run to see the changes to robot that get called by tester_1.py."
   ]
  },
  {
   "cell_type": "code",
   "execution_count": null,
   "metadata": {
    "scrolled": true
   },
   "outputs": [],
   "source": [
    "%load_ext autoreload\n",
    "%autoreload 2"
   ]
  },
  {
   "cell_type": "code",
   "execution_count": null,
   "metadata": {
    "collapsed": true
   },
   "outputs": [],
   "source": [
    "%reload_ext autoreload\n",
    "%autoreload 2"
   ]
  },
  {
   "cell_type": "markdown",
   "metadata": {},
   "source": [
    "## COVERAGE_RESET_THRESHOLD\n",
    "## Enter a percentage (1 - 100) of the total maze to map before resetting to run 2.\n",
    "## To reset the robot upon finding the goal enter 'goal'. Default will be goal."
   ]
  },
  {
   "cell_type": "code",
   "execution_count": null,
   "metadata": {
    "collapsed": true
   },
   "outputs": [],
   "source": [
    "os.environ['COVERAGE_RESET_THRESHOLD'] = '97'"
   ]
  },
  {
   "cell_type": "code",
   "execution_count": null,
   "metadata": {
    "collapsed": true
   },
   "outputs": [],
   "source": [
    "os.environ['COVERAGE_RESET_THRESHOLD'] = 'goal'"
   ]
  },
  {
   "cell_type": "markdown",
   "metadata": {},
   "source": [
    "## MAP_STRATEGY\n",
    "## Enter an explore() controller to use for mapping the maze:\n",
    "## 'random', 'avoid dead ends', 'smart map 1', 'smart map 2'\n",
    "## Default will be smart map 2."
   ]
  },
  {
   "cell_type": "code",
   "execution_count": null,
   "metadata": {
    "collapsed": true
   },
   "outputs": [],
   "source": [
    "os.environ['MAP_STRATEGY'] = 'random'"
   ]
  },
  {
   "cell_type": "code",
   "execution_count": null,
   "metadata": {
    "collapsed": true
   },
   "outputs": [],
   "source": [
    "os.environ['MAP_STRATEGY'] = 'avoid dead ends'"
   ]
  },
  {
   "cell_type": "code",
   "execution_count": null,
   "metadata": {
    "collapsed": true
   },
   "outputs": [],
   "source": [
    "os.environ['MAP_STRATEGY'] = 'smart map 1'"
   ]
  },
  {
   "cell_type": "code",
   "execution_count": null,
   "metadata": {
    "collapsed": true
   },
   "outputs": [],
   "source": [
    "os.environ['MAP_STRATEGY'] = 'smart map 2'"
   ]
  },
  {
   "cell_type": "markdown",
   "metadata": {},
   "source": [
    "## TEST_REPORT \n",
    "## Set to True if you want tester_1.py to return reporting on performance. Default is False."
   ]
  },
  {
   "cell_type": "code",
   "execution_count": null,
   "metadata": {
    "collapsed": true
   },
   "outputs": [],
   "source": [
    "os.environ['TEST_REPORT'] = 'False'"
   ]
  },
  {
   "cell_type": "code",
   "execution_count": null,
   "metadata": {
    "collapsed": true
   },
   "outputs": [],
   "source": [
    "os.environ['TEST_REPORT'] = 'True'"
   ]
  },
  {
   "cell_type": "markdown",
   "metadata": {},
   "source": [
    "## MAPPER\n",
    "## Robot maps 1 cell at a time or as many as possible based on sensor values:\n",
    "## 'mapper 1', 'mapper 2'"
   ]
  },
  {
   "cell_type": "code",
   "execution_count": null,
   "metadata": {
    "collapsed": true
   },
   "outputs": [],
   "source": [
    "os.environ['MAPPER'] = 'mapper1'"
   ]
  },
  {
   "cell_type": "code",
   "execution_count": null,
   "metadata": {
    "collapsed": true
   },
   "outputs": [],
   "source": [
    "os.environ['MAPPER'] = 'mapper2'"
   ]
  },
  {
   "cell_type": "markdown",
   "metadata": {},
   "source": [
    "## Choose test maze 1, 2, 3, 4 to run."
   ]
  },
  {
   "cell_type": "code",
   "execution_count": null,
   "metadata": {
    "scrolled": true
   },
   "outputs": [],
   "source": [
    "%run tester_1.py test_maze_01.txt"
   ]
  },
  {
   "cell_type": "markdown",
   "metadata": {},
   "source": [
    "## Use the command below to open a window that overlays the goal route onto the maze.\n",
    "\n",
    "Either Jupyter or Anaconda is not able to re-open the turtle window with repeated calls. So, it has to be run through the command shell.\n",
    "\n",
    "Click anywhere in the open turtle window to close it."
   ]
  },
  {
   "cell_type": "code",
   "execution_count": null,
   "metadata": {
    "scrolled": true
   },
   "outputs": [],
   "source": [
    "!python tester_1.py test_maze_03.txt showroute"
   ]
  },
  {
   "cell_type": "markdown",
   "metadata": {},
   "source": [
    "## Use the command below to run the solve_maze.py program.\n",
    "## This will take any maze in the particular format for this project and generate a map of the maze that can be used by the A\\* search algorithm to find the shortest route.\n",
    "\n",
    "This is used to help determine whether the robot's mapping and planning algorithms found the fastest possible route.\n",
    "\n",
    "There is also a D\\* Lite search implementation that can be used to verify A\\*."
   ]
  },
  {
   "cell_type": "code",
   "execution_count": null,
   "metadata": {
    "scrolled": true
   },
   "outputs": [],
   "source": [
    "%run solve_maze test_maze_04.txt"
   ]
  },
  {
   "cell_type": "markdown",
   "metadata": {},
   "source": [
    "## Use the command below to overlay the best route for any maze onto the turtle window display of the maze."
   ]
  },
  {
   "cell_type": "code",
   "execution_count": null,
   "metadata": {},
   "outputs": [],
   "source": [
    "!python solve_maze.py test_maze_04.txt showroute"
   ]
  },
  {
   "cell_type": "markdown",
   "metadata": {
    "collapsed": true
   },
   "source": [
    "## The function below is used to test the random_explore() and avoid_dead_end_explore() methods along with the update_map1() and update_map2() methods with each one."
   ]
  },
  {
   "cell_type": "code",
   "execution_count": null,
   "metadata": {},
   "outputs": [],
   "source": [
    "st.trials('test_maze_01.txt', num = 500)"
   ]
  },
  {
   "cell_type": "code",
   "execution_count": null,
   "metadata": {},
   "outputs": [],
   "source": [
    "st.trials('test_maze_02.txt', num = 500)"
   ]
  },
  {
   "cell_type": "code",
   "execution_count": null,
   "metadata": {
    "scrolled": false
   },
   "outputs": [],
   "source": [
    "st.trials('test_maze_03.txt', num = 500)"
   ]
  },
  {
   "cell_type": "code",
   "execution_count": null,
   "metadata": {
    "scrolled": false
   },
   "outputs": [],
   "source": [
    "st.trials('test_maze_04.txt', num = 500)"
   ]
  },
  {
   "cell_type": "code",
   "execution_count": null,
   "metadata": {
    "collapsed": true
   },
   "outputs": [],
   "source": []
  }
 ],
 "metadata": {
  "kernelspec": {
   "display_name": "Python 2",
   "language": "python",
   "name": "python2"
  },
  "language_info": {
   "codemirror_mode": {
    "name": "ipython",
    "version": 2
   },
   "file_extension": ".py",
   "mimetype": "text/x-python",
   "name": "python",
   "nbconvert_exporter": "python",
   "pygments_lexer": "ipython2",
   "version": "2.7.13"
  }
 },
 "nbformat": 4,
 "nbformat_minor": 2
}
