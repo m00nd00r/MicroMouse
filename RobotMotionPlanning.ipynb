{
 "cells": [
  {
   "cell_type": "code",
   "execution_count": 1,
   "metadata": {
    "collapsed": true
   },
   "outputs": [],
   "source": [
    "import os\n",
    "import sys\n",
    "import tester_1"
   ]
  },
  {
   "cell_type": "code",
   "execution_count": 2,
   "metadata": {
    "scrolled": true
   },
   "outputs": [],
   "source": [
    "%load_ext autoreload\n",
    "%autoreload 2"
   ]
  },
  {
   "cell_type": "code",
   "execution_count": 73,
   "metadata": {
    "collapsed": true
   },
   "outputs": [],
   "source": [
    "%reload_ext autoreload\n",
    "%autoreload 2"
   ]
  },
  {
   "cell_type": "markdown",
   "metadata": {},
   "source": [
    "## Enter a number between 1 and 1000 for the total robot movements for exploring maze until reset. Leave blank for default = (maze_dim + 2)^2.\n",
    "### Better to use COVERAGE_RESET_THRESHOLD instead."
   ]
  },
  {
   "cell_type": "code",
   "execution_count": 83,
   "metadata": {
    "collapsed": true
   },
   "outputs": [],
   "source": [
    "os.environ['MOVEMENT_RESET_THRESHOLD'] = ''"
   ]
  },
  {
   "cell_type": "markdown",
   "metadata": {},
   "source": [
    "## Enter a percentage (1 - 100) of the maze to map before reset. To reset the robot once the goal is found enter 'goal'."
   ]
  },
  {
   "cell_type": "code",
   "execution_count": 36,
   "metadata": {
    "collapsed": true
   },
   "outputs": [],
   "source": [
    "os.environ['COVERAGE_RESET_THRESHOLD'] = '85'"
   ]
  },
  {
   "cell_type": "code",
   "execution_count": null,
   "metadata": {
    "collapsed": true
   },
   "outputs": [],
   "source": [
    "os.environ['COVERAGE_RESET_THRESHOLD'] = 'goal'"
   ]
  },
  {
   "cell_type": "markdown",
   "metadata": {},
   "source": [
    "## Enter a strategy to use for mapping the maze: 'random', 'avoid dead ends', 'smart map'. Leave blank for default = 'smart map'"
   ]
  },
  {
   "cell_type": "code",
   "execution_count": 55,
   "metadata": {
    "collapsed": true
   },
   "outputs": [],
   "source": [
    "os.environ['MAP_STRATEGY'] = 'random'"
   ]
  },
  {
   "cell_type": "code",
   "execution_count": 60,
   "metadata": {
    "collapsed": true
   },
   "outputs": [],
   "source": [
    "os.environ['MAP_STRATEGY'] = 'avoid dead ends'"
   ]
  },
  {
   "cell_type": "code",
   "execution_count": 61,
   "metadata": {
    "collapsed": true
   },
   "outputs": [],
   "source": [
    "os.environ['MAP_STRATEGY'] = 'smart map'"
   ]
  },
  {
   "cell_type": "markdown",
   "metadata": {},
   "source": [
    "## Set TEST_REPORT to True if you want tester_1.py to return reporting on performance. Default is False."
   ]
  },
  {
   "cell_type": "code",
   "execution_count": 11,
   "metadata": {
    "collapsed": true
   },
   "outputs": [],
   "source": [
    "os.environ['TEST_REPORT'] = 'False'"
   ]
  },
  {
   "cell_type": "code",
   "execution_count": 16,
   "metadata": {
    "collapsed": true
   },
   "outputs": [],
   "source": [
    "os.environ['TEST_REPORT'] = 'True'"
   ]
  },
  {
   "cell_type": "code",
   "execution_count": 17,
   "metadata": {
    "scrolled": true
   },
   "outputs": [
    {
     "name": "stdout",
     "output_type": "stream",
     "text": [
      "Movement reset threshold set to default = 324.\n",
      "Coverage reset threshold set to default = goal.\n",
      "Maze map strategy used is smart map.\n",
      "\n",
      "Starting run 0.\n",
      "\n",
      "Found Goal in 168 moves.\n",
      "Percent of cell walls mapped until goal found is 81%.\n",
      "\n",
      "Number of walls mapped per cell:\n",
      "[3  3  3  4  4  4  4  4  3  2  1  1  1  1  1  2]\n",
      "[1  2  2  4  4  4  4  4  4  3  0  0  0  0  0  1]\n",
      "[1  0  2  4  4  4  4  4  4  4  3  3  4  2  2  2]\n",
      "[1  0  1  4  4  4  4  4  4  4  4  4  4  3  3  4]\n",
      "[1  0  0  1  2  2  4  4  4  4  4  4  4  4  4  4]\n",
      "[1  0  0  0  1  2  4  4  4  4  4  4  4  4  4  4]\n",
      "[1  0  1  2  4  4  4  3  4  4  4  4  4  4  4  4]\n",
      "[1  1  4  4  4  4  4  0  3  4  4  4  4  4  4  4]\n",
      "[1  0  3  4  3  4  4  3  4  4  4  4  4  4  4  4]\n",
      "[1  2  4  4  1  3  4  4  4  4  4  4  4  3  4  4]\n",
      "[1  1  4  4  2  1  4  4  4  4  4  4  2  4  4  4]\n",
      "[3  3  4  4  4  2  1  3  4  4  4  4  3  1  3  4]\n",
      "[4  4  4  4  4  4  3  3  4  4  4  4  4  4  4  4]\n",
      "[4  4  4  4  4  4  4  4  4  4  4  4  4  4  4  4]\n",
      "[4  4  4  4  4  4  4  4  4  4  4  4  4  4  4  4]\n",
      "[4  4  4  4  4  4  4  4  4  4  4  4  4  4  4  4]\n",
      "\n",
      "Percent of total walls mapped during explore is 81%.\n",
      "Total number of moves for 1st run is 168.\n",
      "\n",
      "Number of times each cell visited:\n",
      "[ 0  0  0  1  1  1  1  1  0  0  0  0  0  0  0  0]\n",
      "[ 0  0  0  1  1  1  1  1  1  0  0  0  0  0  0  0]\n",
      "[ 0  0  0  1  1  1  1  1  1  1  0  0  0  0  0  0]\n",
      "[ 0  0  0  1  1  2  2  2  1  1  1  1  1  0  0  0]\n",
      "[ 0  0  0  0  0  0  2  2  1  1  1  1  1  1  1  0]\n",
      "[ 0  0  0  0  0  0  1  1  2  1  1  1  0  0  1  0]\n",
      "[ 0  0  0  0  1  1  1  0  2  2  2  1  1  1  1  0]\n",
      "[ 0  0  2  2  1  1  0  0  0  1  1  1  0  0  0  0]\n",
      "[ 0  0  0  2  0  1  1  0  1  1  1  1  1  1  1  0]\n",
      "[ 0  0  1  2  0  0  2  2  1  1  1  1  0  0  1  0]\n",
      "[ 0  0  1  1  0  0  1  1  1  0  1  1  0  0  1  1]\n",
      "[ 0  0  1  1  1  0  0  0  1  1  1  0  0  0  0  1]\n",
      "[ 1  1  2  1  1  2  0  0  0  1  1  1  1  1  0  1]\n",
      "[ 1  1  2  2  2  2  1  1  1  1  1  1  1  1  0  1]\n",
      "[ 1  1  0  0  0  1  1  1  1  1  1  1  1  1  1  1]\n",
      "[ 1  1  1  1  1  1  0  1  1  1  1  1  0  0  0  0]\n",
      "\n",
      "\n",
      "Ending first run. Starting next run.\n",
      "Starting run 1.\n",
      "\n",
      "Route to goal:\n",
      "[-  -  -  -  -  -  -  -  -  -  -  -  -  -  -  -]\n",
      "[-  -  -  -  -  -  -  -  -  -  -  -  -  -  -  -]\n",
      "[-  -  -  -  -  -  -  -  -  -  -  -  -  -  -  -]\n",
      "[-  -  -  -  -  -  -  -  -  -  -  -  -  -  -  -]\n",
      "[-  -  -  -  -  -  -  -  -  -  -  -  -  -  -  -]\n",
      "[-  -  -  -  -  -  -  -  -  -  -  -  -  -  -  -]\n",
      "[-  -  -  -  -  -  -  -  -  -  -  -  -  -  -  -]\n",
      "[-  -  -  -  -  -  -  -  -  -  -  -  -  -  -  -]\n",
      "[-  -  -  -  -  -  -  -  G  -  L  #  #  #  L  -]\n",
      "[-  -  -  -  -  -  -  -  R  #  R  -  -  -  #  -]\n",
      "[-  -  -  -  -  -  -  -  -  -  -  -  -  -  R  L]\n",
      "[-  -  -  -  -  -  -  -  -  -  -  -  -  -  -  #]\n",
      "[R  #  R  -  -  -  -  -  -  -  -  -  -  -  -  #]\n",
      "[#  L  R  -  -  -  R  #  #  #  R  -  -  -  -  #]\n",
      "[#  #  -  -  -  R  L  L  #  #  R  -  -  -  -  #]\n",
      "[S  L  #  #  #  L  -  L  #  #  #  #  #  #  #  L]\n",
      "\n",
      "Cost map:\n",
      "[ -  -  -  -  -  -  -  -  -  -  -  -  -  -  -  -]\n",
      "[ -  -  -  -  -  -  -  -  -  -  -  -  -  -  -  -]\n",
      "[ -  -  -  -  -  -  -  -  -  -  -  -  -  -  -  -]\n",
      "[ -  -  -  -  -  -  -  -  -  -  -  -  -  -  -  -]\n",
      "[ -  -  -  -  -  -  -  -  -  -  -  -  -  -  - 58]\n",
      "[ -  -  -  -  -  -  -  -  -  -  -  -  -  - 60 57]\n",
      "[ -  -  -  -  -  -  -  -  -  -  - 61 60 59 58 56]\n",
      "[ -  - 17 15  -  -  -  -  - 62 61 60 59 58 57 55]\n",
      "[ -  -  - 14  -  -  -  - 69 63 62 61 60 59 57 54]\n",
      "[ - 12 10 12  -  -  -  - 67 66 64 64 62 61 56 53]\n",
      "[ -  -  9 12  -  -  -  - 69 68  - 66  - 62 54 52]\n",
      "[11 10  8 10 10  -  -  -  -  -  -  -  -  - 52 51]\n",
      "[ 3  5  6  7  8 14  -  -  -  -  - 46 48 49 51 50]\n",
      "[ 2 10  8 10 11 12 24 26 27 28 29 45 46 48 50 49]\n",
      "[ 1 12 17 19 20 20 22 35 34 33 31 44 45 47 48 48]\n",
      "[ 0 13 15 16 17 18 24 37 39 40 41 42 43 44 45 46]\n",
      "\n",
      "Total length of route is 50 grid cells.\n",
      "Total movements to goal = 34.\n",
      "Total compute time is 0.1422 seconds.\n",
      "Goal found; run 1 completed!\n",
      "Task complete! Score: 39.600\n"
     ]
    }
   ],
   "source": [
    "%run tester_1.py test_maze_03.txt"
   ]
  },
  {
   "cell_type": "markdown",
   "metadata": {},
   "source": [
    "## Use the command below to open a window that overlays the goal route onto the maze.\n",
    "\n",
    "Either Jupyter or Anaconda is not able to re-open the turtle window with repeated calls. So, it has to be run through the command shell.\n",
    "\n",
    "Click on turtle window to close it."
   ]
  },
  {
   "cell_type": "code",
   "execution_count": 12,
   "metadata": {},
   "outputs": [
    {
     "name": "stdout",
     "output_type": "stream",
     "text": [
      "Movement reset threshold set to default = 256.\n",
      "Coverage reset threshold set to default = goal.\n",
      "Maze map strategy used is smart map.\n",
      "\n",
      "Starting run 0.\n",
      "Ending first run. Starting next run.\n",
      "Starting run 1.\n",
      "Goal found; run 1 completed!\n",
      "Task complete! Score: 35.533\n"
     ]
    }
   ],
   "source": [
    "!python tester_1.py test_maze_02.txt showroute"
   ]
  },
  {
   "cell_type": "code",
   "execution_count": 43,
   "metadata": {
    "collapsed": true
   },
   "outputs": [],
   "source": [
    "maze_dim = 12\n",
    "goal_bounds = [maze_dim/2 - 1, maze_dim/2]\n",
    "\n",
    "directions = ['u','r','d','l']\n",
    "count = 0"
   ]
  },
  {
   "cell_type": "code",
   "execution_count": 62,
   "metadata": {},
   "outputs": [
    {
     "name": "stdout",
     "output_type": "stream",
     "text": [
      "r 1\n",
      "u 1\n",
      "d 0\n",
      "l 0\n",
      "r 2\n",
      "u 0\n",
      "d 1\n",
      "l 0\n",
      "r 0\n",
      "u 1\n",
      "d 0\n",
      "l 1\n",
      "r 1\n",
      "u 0\n",
      "d 1\n",
      "l 1\n",
      "6 6\n"
     ]
    }
   ],
   "source": [
    "\n",
    "for i in goal_bounds:\n",
    "    for j in goal_bounds:\n",
    "        count = 0\n",
    "        for k,v in maze_map[(i,j)].iteritems():\n",
    "            if v == 0:\n",
    "                count += 1\n",
    "        if count == 1:\n",
    "            print i,j"
   ]
  },
  {
   "cell_type": "code",
   "execution_count": 64,
   "metadata": {
    "collapsed": true
   },
   "outputs": [],
   "source": [
    "import maze_1"
   ]
  },
  {
   "cell_type": "code",
   "execution_count": 68,
   "metadata": {},
   "outputs": [],
   "source": [
    "testmaze = maze_1.Maze('test_maze_01.txt')"
   ]
  },
  {
   "cell_type": "code",
   "execution_count": 69,
   "metadata": {
    "collapsed": true
   },
   "outputs": [],
   "source": [
    "maze_map = testmaze.make_map()"
   ]
  },
  {
   "cell_type": "code",
   "execution_count": 70,
   "metadata": {},
   "outputs": [
    {
     "data": {
      "text/plain": [
       "(6, 6)"
      ]
     },
     "execution_count": 70,
     "metadata": {},
     "output_type": "execute_result"
    }
   ],
   "source": [
    "goal_door = testmaze.goal_door(maze_map)\n",
    "goal_door"
   ]
  },
  {
   "cell_type": "code",
   "execution_count": 45,
   "metadata": {
    "collapsed": true
   },
   "outputs": [],
   "source": [
    "import numpy"
   ]
  },
  {
   "cell_type": "code",
   "execution_count": null,
   "metadata": {
    "collapsed": true
   },
   "outputs": [],
   "source": [
    "open_dirs = [k for k,v in self.maze_map[self.location].iteritems() if k != dir_reverse[self.heading] and v != 0]"
   ]
  },
  {
   "cell_type": "code",
   "execution_count": 71,
   "metadata": {
    "collapsed": true
   },
   "outputs": [],
   "source": [
    "import solve_maze"
   ]
  },
  {
   "cell_type": "code",
   "execution_count": 96,
   "metadata": {},
   "outputs": [
    {
     "name": "stdout",
     "output_type": "stream",
     "text": [
      "[-  -  -  -  -  -  -  -  -  -  -  -]\n",
      "[-  -  -  -  -  -  -  -  -  -  -  -]\n",
      "[-  -  -  -  -  -  -  -  -  -  -  -]\n",
      "[-  -  -  -  -  -  -  -  -  -  -  -]\n",
      "[-  -  -  -  -  -  -  -  -  -  -  -]\n",
      "[-  -  -  -  -  -  G  L  -  -  -  -]\n",
      "[-  -  -  -  -  -  -  R  L  -  -  -]\n",
      "[-  -  -  -  -  -  -  -  #  -  -  -]\n",
      "[-  -  -  -  -  -  -  -  R  #  #  L]\n",
      "[R  R  -  -  R  #  R  -  -  -  -  #]\n",
      "[#  #  -  -  #  -  L  R  -  -  -  #]\n",
      "[S  L  #  #  L  -  -  L  #  #  #  L]\n"
     ]
    }
   ],
   "source": [
    "%run solve_maze test_maze_01.txt"
   ]
  },
  {
   "cell_type": "code",
   "execution_count": 97,
   "metadata": {},
   "outputs": [],
   "source": [
    "!python solve_maze.py test_maze_03.txt showroute"
   ]
  },
  {
   "cell_type": "code",
   "execution_count": null,
   "metadata": {
    "collapsed": true
   },
   "outputs": [],
   "source": []
  }
 ],
 "metadata": {
  "kernelspec": {
   "display_name": "Python 2",
   "language": "python",
   "name": "python2"
  },
  "language_info": {
   "codemirror_mode": {
    "name": "ipython",
    "version": 2
   },
   "file_extension": ".py",
   "mimetype": "text/x-python",
   "name": "python",
   "nbconvert_exporter": "python",
   "pygments_lexer": "ipython2",
   "version": "2.7.13"
  }
 },
 "nbformat": 4,
 "nbformat_minor": 2
}
