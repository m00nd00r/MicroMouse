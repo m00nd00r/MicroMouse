{
 "cells": [
  {
   "cell_type": "markdown",
   "metadata": {},
   "source": [
    "# Robot Motion Planning Capstone Project \n",
    "## This notebook can be used to explore the code for this project  \n",
    "Run the following 3 cells to execute the core scripts to run the code"
   ]
  },
  {
   "cell_type": "code",
   "execution_count": 5,
   "metadata": {
    "collapsed": true
   },
   "outputs": [],
   "source": [
    "import os\n",
    "import sys\n",
    "import tester,tester_1\n",
    "import solve_maze\n",
    "import matplotlib.pyplot as plt\n",
    "import strategy_test as st"
   ]
  },
  {
   "cell_type": "code",
   "execution_count": 501,
   "metadata": {
    "collapsed": true
   },
   "outputs": [],
   "source": [
    "os.environ['TEST_REPORT'] = 'False'\n",
    "os.environ['COVERAGE_RESET_THRESHOLD'] = 'goal'\n",
    "os.environ['MAP_STRATEGY'] = 'smart map'"
   ]
  },
  {
   "cell_type": "code",
   "execution_count": 503,
   "metadata": {
    "scrolled": true
   },
   "outputs": [
    {
     "name": "stdout",
     "output_type": "stream",
     "text": [
      "Starting run 0.\n",
      "Ending first run. Starting next run.\n",
      "Starting run 1.\n",
      "Goal found; run 1 completed!\n",
      "Task complete! Score: 39.600\n"
     ]
    }
   ],
   "source": [
    "%run tester.py test_maze_03.txt"
   ]
  },
  {
   "cell_type": "code",
   "execution_count": 42,
   "metadata": {
    "scrolled": true
   },
   "outputs": [
    {
     "name": "stdout",
     "output_type": "stream",
     "text": [
      "The autoreload extension is already loaded. To reload it, use:\n",
      "  %reload_ext autoreload\n"
     ]
    }
   ],
   "source": [
    "%load_ext autoreload\n",
    "%autoreload 2"
   ]
  },
  {
   "cell_type": "code",
   "execution_count": 402,
   "metadata": {
    "collapsed": true
   },
   "outputs": [],
   "source": [
    "%reload_ext autoreload\n",
    "%autoreload 2"
   ]
  },
  {
   "cell_type": "markdown",
   "metadata": {},
   "source": [
    "## Enter a percentage (1 - 100) of the maze to map before reset. To reset the robot once the goal is found enter 'goal'."
   ]
  },
  {
   "cell_type": "code",
   "execution_count": 398,
   "metadata": {
    "collapsed": true
   },
   "outputs": [],
   "source": [
    "os.environ['COVERAGE_RESET_THRESHOLD'] = '97'"
   ]
  },
  {
   "cell_type": "code",
   "execution_count": 406,
   "metadata": {
    "collapsed": true
   },
   "outputs": [],
   "source": [
    "os.environ['COVERAGE_RESET_THRESHOLD'] = 'goal'"
   ]
  },
  {
   "cell_type": "markdown",
   "metadata": {},
   "source": [
    "## Enter a strategy to use for mapping the maze: 'random', 'avoid dead ends', 'smart map'. Leave blank for default = 'smart map'"
   ]
  },
  {
   "cell_type": "code",
   "execution_count": 292,
   "metadata": {
    "collapsed": true
   },
   "outputs": [],
   "source": [
    "os.environ['MAP_STRATEGY'] = 'random'"
   ]
  },
  {
   "cell_type": "code",
   "execution_count": 45,
   "metadata": {
    "collapsed": true
   },
   "outputs": [],
   "source": [
    "os.environ['MAP_STRATEGY'] = 'avoid dead ends'"
   ]
  },
  {
   "cell_type": "code",
   "execution_count": 220,
   "metadata": {
    "collapsed": true
   },
   "outputs": [],
   "source": [
    "os.environ['MAP_STRATEGY'] = 'smart map 1'"
   ]
  },
  {
   "cell_type": "code",
   "execution_count": 376,
   "metadata": {
    "collapsed": true
   },
   "outputs": [],
   "source": [
    "os.environ['MAP_STRATEGY'] = 'smart map 2'"
   ]
  },
  {
   "cell_type": "markdown",
   "metadata": {},
   "source": [
    "## Set TEST_REPORT to True if you want tester_1.py to return reporting on performance. Default is False."
   ]
  },
  {
   "cell_type": "code",
   "execution_count": 386,
   "metadata": {
    "collapsed": true
   },
   "outputs": [],
   "source": [
    "os.environ['TEST_REPORT'] = 'False'"
   ]
  },
  {
   "cell_type": "code",
   "execution_count": 389,
   "metadata": {
    "collapsed": true
   },
   "outputs": [],
   "source": [
    "os.environ['TEST_REPORT'] = 'True'"
   ]
  },
  {
   "cell_type": "markdown",
   "metadata": {},
   "source": [
    "## Select which mapping method to use:"
   ]
  },
  {
   "cell_type": "code",
   "execution_count": 377,
   "metadata": {},
   "outputs": [],
   "source": [
    "os.environ['MAPPER'] = 'mapper1'"
   ]
  },
  {
   "cell_type": "code",
   "execution_count": 381,
   "metadata": {
    "collapsed": true
   },
   "outputs": [],
   "source": [
    "os.environ['MAPPER'] = 'mapper2'"
   ]
  },
  {
   "cell_type": "code",
   "execution_count": 407,
   "metadata": {
    "scrolled": true
   },
   "outputs": [
    {
     "name": "stdout",
     "output_type": "stream",
     "text": [
      "Coverage reset threshold set to goal.\n",
      "Maze map strategy used is smart map 2.\n",
      "\n",
      "Mapper method is mapper2.\n",
      "\n",
      "Starting run 0.\n",
      "\n",
      "Found Goal in 106 moves.\n",
      "Percent of cell walls mapped until goal found is 66%.\n",
      "\n",
      "Number of walls mapped per cell:\n",
      "[2  1  1  1  1  3  3  3  3  4  4  4  4  4]\n",
      "[1  0  0  0  0  0  0  0  1  4  4  4  4  4]\n",
      "[1  0  0  0  0  0  1  1  2  4  4  3  4  4]\n",
      "[1  0  0  0  0  1  4  4  4  4  4  3  4  4]\n",
      "[1  0  0  0  0  1  4  4  4  4  4  4  4  4]\n",
      "[1  0  0  0  0  1  4  4  4  4  4  4  4  4]\n",
      "[3  0  0  0  0  1  4  3  4  4  4  4  4  4]\n",
      "[3  0  0  0  0  0  2  1  4  4  4  4  4  4]\n",
      "[3  0  0  0  0  0  0  2  4  4  4  4  4  4]\n",
      "[3  1  1  1  1  2  1  3  4  4  4  4  4  4]\n",
      "[4  4  4  4  4  4  4  4  4  4  4  4  4  4]\n",
      "[4  4  4  4  3  3  4  3  3  4  4  4  4  4]\n",
      "[4  4  4  4  4  4  4  3  2  1  3  4  4  4]\n",
      "[4  4  4  4  4  4  4  2  1  1  4  4  4  4]\n",
      "\n",
      "Percent of total walls mapped during explore is 66%.\n",
      "Total number of moves for 1st run is 106.\n",
      "\n",
      "Number of times each cell visited:\n",
      "[ 0  0  0  0  0  0  0  0  0  0  0  1  1  1]\n",
      "[ 0  0  0  0  0  0  0  0  0  1  1  1  0  1]\n",
      "[ 0  0  0  0  0  0  0  0  0  1  1  0  1  1]\n",
      "[ 0  0  0  0  0  0  1  1  1  1  1  0  1  0]\n",
      "[ 0  0  0  0  0  0  1  1  1  1  1  1  1  1]\n",
      "[ 0  0  0  0  0  0  1  1  1  1  1  1  0  1]\n",
      "[ 0  0  0  0  0  0  1  0  1  1  1  2  0  1]\n",
      "[ 0  0  0  0  0  0  0  0  1  1  2  2  2  2]\n",
      "[ 0  0  0  0  0  0  0  0  0  1  2  1  1  1]\n",
      "[ 0  0  0  0  0  0  0  0  1  1  1  1  1  0]\n",
      "[ 1  1  2  2  2  0  1  1  1  1  1  0  1  0]\n",
      "[ 1  1  2  2  0  0  1  0  0  1  1  1  1  1]\n",
      "[ 1  1  2  2  0  1  1  0  0  0  0  1  1  1]\n",
      "[ 1  1  2  1  1  1  0  0  0  0  0  0  1  1]\n",
      "\n",
      "\n",
      "Ending first run. Starting next run.\n",
      "Starting run 1.\n",
      "\n",
      "Route to goal:\n",
      "[-  -  -  -  -  -  -  -  -  -  -  -  -  -]\n",
      "[-  -  -  -  -  -  -  -  -  -  -  -  -  -]\n",
      "[-  -  -  -  -  -  -  -  -  -  -  -  -  -]\n",
      "[-  -  -  -  -  -  -  -  -  -  -  -  -  -]\n",
      "[-  -  -  -  -  -  -  -  L  #  #  #  #  L]\n",
      "[-  -  -  -  -  -  L  #  R  -  -  -  -  #]\n",
      "[-  -  -  -  -  -  G  -  -  -  -  -  -  #]\n",
      "[-  -  -  -  -  -  -  -  -  -  -  -  -  #]\n",
      "[-  -  -  -  -  -  -  -  -  -  -  -  R  L]\n",
      "[-  -  -  -  -  -  -  -  R  #  R  -  #  -]\n",
      "[R  #  R  -  -  R  #  #  L  -  L  R  #  -]\n",
      "[#  L  R  -  -  #  -  -  -  -  -  L  L  -]\n",
      "[#  #  -  -  -  #  -  -  -  -  -  -  -  -]\n",
      "[S  L  #  #  #  L  -  -  -  -  -  -  -  -]\n",
      "\n",
      "Total length of route is 44 grid cells.\n",
      "Total movements to goal is 32.\n",
      "Total rotations to goal is 25.\n",
      "Total compute time is 0.1111 seconds.\n",
      "Goal found; run 1 completed!\n",
      "Task complete! Score: 35.533\n"
     ]
    }
   ],
   "source": [
    "%run tester_1.py test_maze_02.txt"
   ]
  },
  {
   "cell_type": "markdown",
   "metadata": {},
   "source": [
    "## Use the command below to open a window that overlays the goal route onto the maze.\n",
    "\n",
    "Either Jupyter or Anaconda is not able to re-open the turtle window with repeated calls. So, it has to be run through the command shell.\n",
    "\n",
    "Click on anywhere in the window to close it."
   ]
  },
  {
   "cell_type": "code",
   "execution_count": 273,
   "metadata": {
    "scrolled": true
   },
   "outputs": [
    {
     "name": "stdout",
     "output_type": "stream",
     "text": [
      "Movement reset threshold set to default = 324.\n",
      "Coverage reset threshold set to default = goal.\n",
      "Maze map strategy used is smart map.\n",
      "\n",
      "Starting run 0.\n",
      "\n",
      "Found Goal in 168 moves.\n",
      "Percent of cell walls mapped until goal found is 81%.\n",
      "\n",
      "Number of walls mapped per cell:\n",
      "[3  3  3  4  4  4  4  4  3  2  1  1  1  1  1  2]\n",
      "[1  2  2  4  4  4  4  4  4  3  0  0  0  0  0  1]\n",
      "[1  0  2  4  4  4  4  4  4  4  3  3  4  2  2  2]\n",
      "[1  0  1  4  4  4  4  4  4  4  4  4  4  3  3  4]\n",
      "[1  0  0  1  2  2  4  4  4  4  4  4  4  4  4  4]\n",
      "[1  0  0  0  1  2  4  4  4  4  4  4  4  4  4  4]\n",
      "[1  0  1  2  4  4  4  3  4  4  4  4  4  4  4  4]\n",
      "[1  1  4  4  4  4  4  0  3  4  4  4  4  4  4  4]\n",
      "[1  0  3  4  3  4  4  3  4  4  4  4  4  4  4  4]\n",
      "[1  2  4  4  1  3  4  4  4  4  4  4  4  3  4  4]\n",
      "[1  1  4  4  2  1  4  4  4  4  4  4  2  4  4  4]\n",
      "[3  3  4  4  4  2  1  3  4  4  4  4  3  1  3  4]\n",
      "[4  4  4  4  4  4  3  3  4  4  4  4  4  4  4  4]\n",
      "[4  4  4  4  4  4  4  4  4  4  4  4  4  4  4  4]\n",
      "[4  4  4  4  4  4  4  4  4  4  4  4  4  4  4  4]\n",
      "[4  4  4  4  4  4  4  4  4  4  4  4  4  4  4  4]\n",
      "\n",
      "Percent of total walls mapped during explore is 81%.\n",
      "Total number of moves for 1st run is 168.\n",
      "\n",
      "Number of times each cell visited:\n",
      "[ 0  0  0  1  1  1  1  1  0  0  0  0  0  0  0  0]\n",
      "[ 0  0  0  1  1  1  1  1  1  0  0  0  0  0  0  0]\n",
      "[ 0  0  0  1  1  1  1  1  1  1  0  0  0  0  0  0]\n",
      "[ 0  0  0  1  1  2  2  2  1  1  1  1  1  0  0  0]\n",
      "[ 0  0  0  0  0  0  2  2  1  1  1  1  1  1  1  0]\n",
      "[ 0  0  0  0  0  0  1  1  2  1  1  1  0  0  1  0]\n",
      "[ 0  0  0  0  1  1  1  0  2  2  2  1  1  1  1  0]\n",
      "[ 0  0  2  2  1  1  0  0  0  1  1  1  0  0  0  0]\n",
      "[ 0  0  0  2  0  1  1  0  1  1  1  1  1  1  1  0]\n",
      "[ 0  0  1  2  0  0  2  2  1  1  1  1  0  0  1  0]\n",
      "[ 0  0  1  1  0  0  1  1  1  0  1  1  0  0  1  1]\n",
      "[ 0  0  1  1  1  0  0  0  1  1  1  0  0  0  0  1]\n",
      "[ 1  1  2  1  1  2  0  0  0  1  1  1  1  1  0  1]\n",
      "[ 1  1  2  2  2  2  1  1  1  1  1  1  1  1  0  1]\n",
      "[ 1  1  0  0  0  1  1  1  1  1  1  1  1  1  1  1]\n",
      "[ 1  1  1  1  1  1  0  1  1  1  1  1  0  0  0  0]\n",
      "\n",
      "\n",
      "Ending first run. Starting next run.\n",
      "Starting run 1.\n",
      "\n",
      "Route to goal:\n",
      "[-  -  -  -  -  -  -  -  -  -  -  -  -  -  -  -]\n",
      "[-  -  -  -  -  -  -  -  -  -  -  -  -  -  -  -]\n",
      "[-  -  -  -  -  -  -  -  -  -  -  -  -  -  -  -]\n",
      "[-  -  -  -  -  -  -  -  -  -  -  -  -  -  -  -]\n",
      "[-  -  -  -  -  -  -  -  -  -  -  -  -  -  -  -]\n",
      "[-  -  -  -  -  -  -  -  -  -  -  -  -  -  -  -]\n",
      "[-  -  -  -  -  -  -  -  -  -  -  -  -  -  -  -]\n",
      "[-  -  -  -  -  -  -  -  -  -  -  -  -  -  -  -]\n",
      "[-  -  -  -  -  -  -  -  G  -  L  #  #  #  L  -]\n",
      "[-  -  -  -  -  -  -  -  R  #  R  -  -  -  #  -]\n",
      "[-  -  -  -  -  -  -  -  -  -  -  -  -  -  R  L]\n",
      "[-  -  -  -  -  -  -  -  -  -  -  -  -  -  -  #]\n",
      "[R  #  R  -  -  -  -  -  -  -  -  -  -  -  -  #]\n",
      "[#  L  R  -  -  -  R  #  #  #  R  -  -  -  -  #]\n",
      "[#  #  -  -  -  R  L  L  #  #  R  -  -  -  -  #]\n",
      "[S  L  #  #  #  L  -  L  #  #  #  #  #  #  #  L]\n",
      "\n",
      "Cost map:\n",
      "[ -  -  -  -  -  -  -  -  -  -  -  -  -  -  -  -]\n",
      "[ -  -  -  -  -  -  -  -  -  -  -  -  -  -  -  -]\n",
      "[ -  -  -  -  -  -  -  -  -  -  -  -  -  -  -  -]\n",
      "[ -  -  -  -  -  -  -  -  -  -  -  -  -  -  -  -]\n",
      "[ -  -  -  -  -  -  -  -  -  -  -  -  -  -  - 58]\n",
      "[ -  -  -  -  -  -  -  -  -  -  -  -  -  - 60 57]\n",
      "[ -  -  -  -  -  -  -  -  -  -  - 61 60 59 58 56]\n",
      "[ -  - 17 15  -  -  -  -  - 62 61 60 59 58 57 55]\n",
      "[ -  -  - 14  -  -  -  - 69 63 62 61 60 59 57 54]\n",
      "[ - 12 10 12  -  -  -  - 67 66 64 64 62 61 56 53]\n",
      "[ -  -  9 12  -  -  -  - 69 68  - 66  - 62 54 52]\n",
      "[11 10  8 10 10  -  -  -  -  -  -  -  -  - 52 51]\n",
      "[ 3  5  6  7  8 14  -  -  -  -  - 46 48 49 51 50]\n",
      "[ 2 10  8 10 11 12 24 26 27 28 29 45 46 48 50 49]\n",
      "[ 1 12 17 19 20 20 22 35 34 33 31 44 45 47 48 48]\n",
      "[ 0 13 15 16 17 18 24 37 39 40 41 42 43 44 45 46]\n",
      "\n",
      "Total length of route is 50 grid cells.\n",
      "Total movements to goal is 34.\n",
      "Total rotations to goal is 26.\n",
      "Total compute time is 0.09258 seconds.\n",
      "Goal found; run 1 completed!\n",
      "Task complete! Score: 39.600\n",
      "Movement reset threshold set to default = 324.\n",
      "Coverage reset threshold set to default = goal.\n",
      "Maze map strategy used is smart map.\n",
      "\n",
      "Starting run 0.\n",
      "\n",
      "Found Goal in 168 moves.\n",
      "Percent of cell walls mapped until goal found is 81%.\n",
      "\n",
      "Number of walls mapped per cell:\n",
      "[3  3  3  4  4  4  4  4  3  2  1  1  1  1  1  2]\n",
      "[1  2  2  4  4  4  4  4  4  3  0  0  0  0  0  1]\n",
      "[1  0  2  4  4  4  4  4  4  4  3  3  4  2  2  2]\n",
      "[1  0  1  4  4  4  4  4  4  4  4  4  4  3  3  4]\n",
      "[1  0  0  1  2  2  4  4  4  4  4  4  4  4  4  4]\n",
      "[1  0  0  0  1  2  4  4  4  4  4  4  4  4  4  4]\n",
      "[1  0  1  2  4  4  4  3  4  4  4  4  4  4  4  4]\n",
      "[1  1  4  4  4  4  4  0  3  4  4  4  4  4  4  4]\n",
      "[1  0  3  4  3  4  4  3  4  4  4  4  4  4  4  4]\n",
      "[1  2  4  4  1  3  4  4  4  4  4  4  4  3  4  4]\n",
      "[1  1  4  4  2  1  4  4  4  4  4  4  2  4  4  4]\n",
      "[3  3  4  4  4  2  1  3  4  4  4  4  3  1  3  4]\n",
      "[4  4  4  4  4  4  3  3  4  4  4  4  4  4  4  4]\n",
      "[4  4  4  4  4  4  4  4  4  4  4  4  4  4  4  4]\n",
      "[4  4  4  4  4  4  4  4  4  4  4  4  4  4  4  4]\n",
      "[4  4  4  4  4  4  4  4  4  4  4  4  4  4  4  4]\n",
      "\n",
      "Percent of total walls mapped during explore is 81%.\n",
      "Total number of moves for 1st run is 168.\n",
      "\n",
      "Number of times each cell visited:\n",
      "[ 0  0  0  1  1  1  1  1  0  0  0  0  0  0  0  0]\n",
      "[ 0  0  0  1  1  1  1  1  1  0  0  0  0  0  0  0]\n",
      "[ 0  0  0  1  1  1  1  1  1  1  0  0  0  0  0  0]\n",
      "[ 0  0  0  1  1  2  2  2  1  1  1  1  1  0  0  0]\n",
      "[ 0  0  0  0  0  0  2  2  1  1  1  1  1  1  1  0]\n",
      "[ 0  0  0  0  0  0  1  1  2  1  1  1  0  0  1  0]\n",
      "[ 0  0  0  0  1  1  1  0  2  2  2  1  1  1  1  0]\n",
      "[ 0  0  2  2  1  1  0  0  0  1  1  1  0  0  0  0]\n",
      "[ 0  0  0  2  0  1  1  0  1  1  1  1  1  1  1  0]\n",
      "[ 0  0  1  2  0  0  2  2  1  1  1  1  0  0  1  0]\n",
      "[ 0  0  1  1  0  0  1  1  1  0  1  1  0  0  1  1]\n",
      "[ 0  0  1  1  1  0  0  0  1  1  1  0  0  0  0  1]\n",
      "[ 1  1  2  1  1  2  0  0  0  1  1  1  1  1  0  1]\n",
      "[ 1  1  2  2  2  2  1  1  1  1  1  1  1  1  0  1]\n",
      "[ 1  1  0  0  0  1  1  1  1  1  1  1  1  1  1  1]\n",
      "[ 1  1  1  1  1  1  0  1  1  1  1  1  0  0  0  0]\n",
      "\n",
      "\n",
      "Ending first run. Starting next run.\n",
      "Starting run 1.\n",
      "\n",
      "Route to goal:\n",
      "[-  -  -  -  -  -  -  -  -  -  -  -  -  -  -  -]\n",
      "[-  -  -  -  -  -  -  -  -  -  -  -  -  -  -  -]\n",
      "[-  -  -  -  -  -  -  -  -  -  -  -  -  -  -  -]\n",
      "[-  -  -  -  -  -  -  -  -  -  -  -  -  -  -  -]\n",
      "[-  -  -  -  -  -  -  -  -  -  -  -  -  -  -  -]\n",
      "[-  -  -  -  -  -  -  -  -  -  -  -  -  -  -  -]\n",
      "[-  -  -  -  -  -  -  -  -  -  -  -  -  -  -  -]\n",
      "[-  -  -  -  -  -  -  -  -  -  -  -  -  -  -  -]\n",
      "[-  -  -  -  -  -  -  -  G  -  L  #  #  #  L  -]\n",
      "[-  -  -  -  -  -  -  -  R  #  R  -  -  -  #  -]\n",
      "[-  -  -  -  -  -  -  -  -  -  -  -  -  -  R  L]\n",
      "[-  -  -  -  -  -  -  -  -  -  -  -  -  -  -  #]\n",
      "[R  #  R  -  -  -  -  -  -  -  -  -  -  -  -  #]\n",
      "[#  L  R  -  -  -  R  #  #  #  R  -  -  -  -  #]\n",
      "[#  #  -  -  -  R  L  L  #  #  R  -  -  -  -  #]\n",
      "[S  L  #  #  #  L  -  L  #  #  #  #  #  #  #  L]\n",
      "\n",
      "Cost map:\n",
      "[ -  -  -  -  -  -  -  -  -  -  -  -  -  -  -  -]\n",
      "[ -  -  -  -  -  -  -  -  -  -  -  -  -  -  -  -]\n",
      "[ -  -  -  -  -  -  -  -  -  -  -  -  -  -  -  -]\n",
      "[ -  -  -  -  -  -  -  -  -  -  -  -  -  -  -  -]\n",
      "[ -  -  -  -  -  -  -  -  -  -  -  -  -  -  - 58]\n",
      "[ -  -  -  -  -  -  -  -  -  -  -  -  -  - 60 57]\n",
      "[ -  -  -  -  -  -  -  -  -  -  - 61 60 59 58 56]\n",
      "[ -  - 17 15  -  -  -  -  - 62 61 60 59 58 57 55]\n",
      "[ -  -  - 14  -  -  -  - 69 63 62 61 60 59 57 54]\n",
      "[ - 12 10 12  -  -  -  - 67 66 64 64 62 61 56 53]\n",
      "[ -  -  9 12  -  -  -  - 69 68  - 66  - 62 54 52]\n",
      "[11 10  8 10 10  -  -  -  -  -  -  -  -  - 52 51]\n",
      "[ 3  5  6  7  8 14  -  -  -  -  - 46 48 49 51 50]\n",
      "[ 2 10  8 10 11 12 24 26 27 28 29 45 46 48 50 49]\n",
      "[ 1 12 17 19 20 20 22 35 34 33 31 44 45 47 48 48]\n",
      "[ 0 13 15 16 17 18 24 37 39 40 41 42 43 44 45 46]\n",
      "\n",
      "Total length of route is 50 grid cells.\n",
      "Total movements to goal is 34.\n",
      "Total rotations to goal is 26.\n",
      "Total compute time is 0.08583 seconds.\n",
      "Goal found; run 1 completed!\n",
      "Task complete! Score: 39.600\n"
     ]
    }
   ],
   "source": [
    "!python tester_1.py test_maze_03.txt showroute"
   ]
  },
  {
   "cell_type": "markdown",
   "metadata": {},
   "source": [
    "## Use the command below to run the solve_maze.py program. This will take any maze in the particular format for this project and generate a map of the maze that can be used by the A\\* search algorithm to find the shortest route.\n",
    "\n",
    "This is used to help determine whether the robot's mapping and planning algorithms found the fastest possible route.\n",
    "\n",
    "There is also a D\\* Lite search implementation, but it doesn't seem to work as well as A\\*."
   ]
  },
  {
   "cell_type": "code",
   "execution_count": 357,
   "metadata": {
    "scrolled": true
   },
   "outputs": [
    {
     "name": "stdout",
     "output_type": "stream",
     "text": [
      "[-  -  -  R  #  #  #  R  -  -  -  -]\n",
      "[-  R  R  #  -  -  -  L  #  R  -  -]\n",
      "[-  #  #  #  -  -  -  -  -  #  -  -]\n",
      "[R  L  L  L  -  -  -  -  -  #  -  -]\n",
      "[#  -  -  -  -  -  -  -  -  #  -  -]\n",
      "[#  -  -  -  -  -  G  L  L  R  -  -]\n",
      "[#  -  -  -  -  -  -  R  R  -  -  -]\n",
      "[#  -  -  -  -  -  -  -  -  -  -  -]\n",
      "[#  -  -  -  -  -  -  -  -  -  -  -]\n",
      "[#  -  -  -  -  -  -  -  -  -  -  -]\n",
      "[#  -  -  -  -  -  -  -  -  -  -  -]\n",
      "[S  -  -  -  -  -  -  -  -  -  -  -]\n",
      "\n",
      "Total length of route is 35 grid cells.\n",
      "Total movements to goal is 24.\n",
      "Total rotations required is 15.\n",
      "Straightness of route is 0.571428571429.\n",
      "Routing cost is 1.11428571429.\n",
      "Total compute time is 0.03754 seconds.\n"
     ]
    }
   ],
   "source": [
    "%run solve_maze test_maze_01.txt"
   ]
  },
  {
   "cell_type": "markdown",
   "metadata": {},
   "source": [
    "## Use the command below to overlay the best route onto the turtle window of the maze."
   ]
  },
  {
   "cell_type": "code",
   "execution_count": 18,
   "metadata": {},
   "outputs": [
    {
     "name": "stdout",
     "output_type": "stream",
     "text": [
      "\n",
      "Total length of route is 95 grid cells.\n",
      "Total movements to goal is 61.\n",
      "Total rotations required is 31.\n",
      "Straightness of route is 0.673684210526.\n",
      "Routing cost is 0.968421052632.\n",
      "Total compute time is 48.98 seconds.\n"
     ]
    }
   ],
   "source": [
    "!python solve_maze.py test_maze_04.txt showroute"
   ]
  },
  {
   "cell_type": "markdown",
   "metadata": {
    "collapsed": true
   },
   "source": [
    "## The function below is used to test the random_explore() and avoid_dead_end_explore() methods along with the update_map1() and update_map2() methods with each one."
   ]
  },
  {
   "cell_type": "code",
   "execution_count": 348,
   "metadata": {},
   "outputs": [
    {
     "name": "stdout",
     "output_type": "stream",
     "text": [
      "Running the random explorer and the mapper1 mapper through 100 trials on test_maze_01.txt:\n",
      "robot failed to find goal 12 times with average of score of 39.44082397\n",
      "\n",
      "Running the random explorer and the mapper2 mapper through 100 trials on test_maze_01.txt:\n",
      "robot failed to find goal 17 times with average of score of 34.3031746032\n",
      "\n",
      "Running the avoid dead ends explorer and the mapper1 mapper through 100 trials on test_maze_01.txt:\n",
      "robot failed to find goal 6 times with average of score of 36.9536842105\n",
      "\n",
      "Running the avoid dead ends explorer and the mapper2 mapper through 100 trials on test_maze_01.txt:\n",
      "robot failed to find goal 13 times with average of score of 35.7473484848\n",
      "\n",
      "Running the smart map 1 explorer and the mapper1 mapper through 100 trials on test_maze_01.txt:\n",
      "robot failed to find goal 0 times with average of score of 30.3815181518\n",
      "\n",
      "Running the smart map 1 explorer and the mapper2 mapper through 100 trials on test_maze_01.txt:\n",
      "robot failed to find goal 0 times with average of score of 26.2353135314\n",
      "\n"
     ]
    }
   ],
   "source": [
    "st.trials('test_maze_01.txt')"
   ]
  },
  {
   "cell_type": "code",
   "execution_count": 349,
   "metadata": {},
   "outputs": [
    {
     "name": "stdout",
     "output_type": "stream",
     "text": [
      "Running the random explorer and the mapper1 mapper through 100 trials on test_maze_02.txt:\n",
      "robot failed to find goal 31 times with average of score of 51.6361904762\n",
      "\n",
      "Running the random explorer and the mapper2 mapper through 100 trials on test_maze_02.txt:\n",
      "robot failed to find goal 29 times with average of score of 48.4444444444\n",
      "\n",
      "Running the avoid dead ends explorer and the mapper1 mapper through 100 trials on test_maze_02.txt:\n",
      "robot failed to find goal 26 times with average of score of 49.4128888889\n",
      "\n",
      "Running the avoid dead ends explorer and the mapper2 mapper through 100 trials on test_maze_02.txt:\n",
      "robot failed to find goal 30 times with average of score of 47.1492957746\n",
      "\n",
      "Running the smart map 1 explorer and the mapper1 mapper through 100 trials on test_maze_02.txt:\n",
      "robot failed to find goal 0 times with average of score of 48.8069306931\n",
      "\n",
      "Running the smart map 1 explorer and the mapper2 mapper through 100 trials on test_maze_02.txt:\n",
      "robot failed to find goal 0 times with average of score of 38.3082508251\n",
      "\n"
     ]
    }
   ],
   "source": [
    "st.trials('test_maze_02.txt')"
   ]
  },
  {
   "cell_type": "code",
   "execution_count": 350,
   "metadata": {
    "scrolled": true
   },
   "outputs": [
    {
     "name": "stdout",
     "output_type": "stream",
     "text": [
      "Running the random explorer and the mapper1 mapper through 100 trials on test_maze_03.txt:\n",
      "robot failed to find goal 29 times with average of score of 51.6898148148\n",
      "\n",
      "Running the random explorer and the mapper2 mapper through 100 trials on test_maze_03.txt:\n",
      "robot failed to find goal 29 times with average of score of 48.8273148148\n",
      "\n",
      "Running the avoid dead ends explorer and the mapper1 mapper through 100 trials on test_maze_03.txt:\n",
      "robot failed to find goal 30 times with average of score of 51.8840375587\n",
      "\n",
      "Running the avoid dead ends explorer and the mapper2 mapper through 100 trials on test_maze_03.txt:\n",
      "robot failed to find goal 31 times with average of score of 49.7342857143\n",
      "\n",
      "Running the smart map 1 explorer and the mapper1 mapper through 100 trials on test_maze_03.txt:\n",
      "robot failed to find goal 0 times with average of score of 49.2115511551\n",
      "\n",
      "Running the smart map 1 explorer and the mapper2 mapper through 100 trials on test_maze_03.txt:\n",
      "robot failed to find goal 0 times with average of score of 40.6561056106\n",
      "\n"
     ]
    }
   ],
   "source": [
    "st.trials('test_maze_03.txt')"
   ]
  },
  {
   "cell_type": "code",
   "execution_count": 375,
   "metadata": {
    "scrolled": true
   },
   "outputs": [
    {
     "name": "stdout",
     "output_type": "stream",
     "text": [
      "Running the random explorer and the mapper1 mapper through 100 trials on test_maze_04.txt:\n",
      "robot failed to find goal 41 times with average of score of 85.8755555556\n",
      "\n",
      "Running the random explorer and the mapper2 mapper through 100 trials on test_maze_04.txt:\n",
      "robot failed to find goal 45 times with average of score of 83.2654761905\n",
      "\n",
      "Running the avoid dead ends explorer and the mapper1 mapper through 100 trials on test_maze_04.txt:\n",
      "robot failed to find goal 45 times with average of score of 86.919047619\n",
      "\n",
      "Running the avoid dead ends explorer and the mapper2 mapper through 100 trials on test_maze_04.txt:\n",
      "robot failed to find goal 40 times with average of score of 84.4464480874\n",
      "\n",
      "Running the smart map 1 explorer and the mapper1 mapper through 100 trials on test_maze_04.txt:\n",
      "robot failed to find goal 0 times with average of score of 80.7772277228\n",
      "\n",
      "Running the smart map 1 explorer and the mapper2 mapper through 100 trials on test_maze_04.txt:\n",
      "robot failed to find goal 0 times with average of score of 79.7933993399\n",
      "\n"
     ]
    }
   ],
   "source": [
    "st.trials('test_maze_04.txt')"
   ]
  },
  {
   "cell_type": "code",
   "execution_count": 1,
   "metadata": {},
   "outputs": [],
   "source": [
    "!python showmaze_1.py test_maze_04.txt"
   ]
  }
 ],
 "metadata": {
  "kernelspec": {
   "display_name": "Python 2",
   "language": "python",
   "name": "python2"
  },
  "language_info": {
   "codemirror_mode": {
    "name": "ipython",
    "version": 2
   },
   "file_extension": ".py",
   "mimetype": "text/x-python",
   "name": "python",
   "nbconvert_exporter": "python",
   "pygments_lexer": "ipython2",
   "version": "2.7.13"
  }
 },
 "nbformat": 4,
 "nbformat_minor": 2
}
