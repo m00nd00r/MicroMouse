{
 "cells": [
  {
   "cell_type": "markdown",
   "metadata": {},
   "source": [
    "# Plot And Navigate A Maze\n",
    "## Robot Motion Planning Capstone Project\n",
    "## John Kinstler\n",
    "### Project files at https://github.com/m00nd00r/MicroMouse\n",
    "\n",
    "### Project Overview\n",
    "The goal of robot motion planning is to find a path for a robot to follow from a starting point to some distant waypoint without colliding with obstacles in the world (also called the configuration space) the robot is moving through. In this particular iteration I will be creating and testing algorithms to allow a robot mouse to plot and navigate a virtual maze.\n",
    "\n",
    "Motion planning has applications in autonomous and automation robotics, in video game artificial intelligence, architectural design, medicine and biology. It is further used in the nascent self-driving car industry.\n",
    "\n",
    "My own particular interest in this area arose from implementing reinforcement learning to teach a Smart Cab to learn the rules of the road for a previous project. Here, rather, different algorithms will be explored as a potential solution.\n",
    "\n",
    "### Problem Statement\n",
    "This project takes inspiration from [Micromouse](https://en.wikipedia.org/wiki/Micromouse) competitions, wherein a robot mouse is tasked with plotting a path from the lower left corner of the maze to a 4 square center where only one of the squares has an opening. The robot mouse may make 2 runs in a given maze. In the first run, the robot mouse tries to map out the maze to figure out the path to the center. In the second run, the robot mouse attempts to reach the center in the fastest time possible, using what it has previously learned.\n",
    "\n",
    "In this project, I will create functions to control a virtual robot to navigate a virtual maze. A simplified model of the world is provided along with specifications for the maze and robot; the goal is to obtain the fastest times possible in a series of test mazes.\n",
    "\n",
    "There are a variety of motion planning algorithms which are detailed [here](https://en.wikipedia.org/wiki/Motion_planning). Some further discussion on this topic can be found [here](http://www.gamasutra.com/blogs/MatthewKlingensmith/20130907/199787/Overview_of_Motion_Planning.php), wherein the author describes 3 algorithms most commonly used to solve motion planning problems which are A\\* grid search, Visibility Graphs, and Flow Fields. Alternatively, I could explore more typical machine learning algorithms such as Neural Networks or Reinforcement Learning.\n",
    "\n",
    "This project will likely be best accomplished using the A\\* algorithm for which implementation guidance can be found [here](http://www.redblobgames.com/). \n",
    "\n",
    "I have also found another algorithm called [D\\*-Lite](https://en.wikipedia.org/wiki/D*#D.2A_Lite) search which takes a bit of different approach to A\\* that uses dynamic programming. The implementation I used for this D\\*-Lite was borrowed from Sebastian Thrun's AI-Robotics class on Udacity."
   ]
  },
  {
   "cell_type": "markdown",
   "metadata": {},
   "source": [
    "To see how the basic code works, run the following 3 cells to execute the core scripts to run the robot."
   ]
  },
  {
   "cell_type": "code",
   "execution_count": 1,
   "metadata": {
    "collapsed": true
   },
   "outputs": [],
   "source": [
    "import os\n",
    "import sys\n",
    "import tester,tester_1\n",
    "import solve_maze\n",
    "import strategy_test as st"
   ]
  },
  {
   "cell_type": "markdown",
   "metadata": {},
   "source": [
    "# Environment Variables\n",
    "### TEST_REPORT is primarily for debugging, but can also help to understand the algorithm.\n",
    "\n",
    "### COVERAGE_RESET_THRESHOLD is used to allow the robot to continue exploring the maze to map more of it to test whether better results can be achieved. This can take any interger value from 1 to 100 or 'goal'.\n",
    "\n",
    "### MAP_STRATEGY tells the robot which algorithm to use while exploring the maze. It can take options:\n",
    " - 'random' - when available, the robot chooses randomly between mulitple directions to move.\n",
    " - 'avoid dead ends' - the robot marks dead ends so it doesn't keep revisiting them or getting stuck.\n",
    " - 'smart map 1' - the robot follows the following rules to choose which direction to move:  \n",
    "      1) choose the cell that is least mapped  \n",
    "      2) choose the cell that is least visited  \n",
    "      3) choose the cell that is closest to the goal  \n",
    "      4) choose randomly  \n",
    " - 'smart map 2' - uses steps 1-3 of 'smart map 1' and instead of choosing randomly in step 4 it chooses from list of prescribed directions to move based on which quadrant it's in and whether or not it has found the goal.\n",
    "\n",
    "### MAPPER tells the robot whether to map the maze one cell at a time or take advantage of it's sensor data to map cells it hasn't yet visited. It can take values 'mapper1' or 'mapper2'\n",
    "\n",
    "### The environment variables below will tell tester.py to run without producing metric reports, tell the micromouse robot to reset to run 2 as soon as the goal is found, use the smart map strategy function, and used the advanced mapper."
   ]
  },
  {
   "cell_type": "code",
   "execution_count": 2,
   "metadata": {
    "collapsed": true
   },
   "outputs": [],
   "source": [
    "os.environ['TEST_REPORT'] = 'False'\n",
    "os.environ['COVERAGE_RESET_THRESHOLD'] = 'goal'\n",
    "os.environ['MAP_STRATEGY'] = 'smart map 2'\n",
    "os.environ['MAPPER'] = 'mapper2'"
   ]
  },
  {
   "cell_type": "markdown",
   "metadata": {
    "collapsed": true
   },
   "source": [
    "## Choose test_maze_01, test_maze_02, test_maze_03, or test_maze_04 to run."
   ]
  },
  {
   "cell_type": "code",
   "execution_count": 3,
   "metadata": {
    "scrolled": true
   },
   "outputs": [
    {
     "name": "stdout",
     "output_type": "stream",
     "text": [
      "Starting run 0.\n",
      "Ending first run. Starting next run.\n",
      "Starting run 1.\n",
      "Goal found; run 1 completed!\n",
      "Task complete! Score: 79.667\n"
     ]
    }
   ],
   "source": [
    "%run tester.py test_maze_04.txt"
   ]
  },
  {
   "cell_type": "markdown",
   "metadata": {},
   "source": [
    "## The following 2 code cells are necessary to run for loading/reloading any scripts that are modified that get called by other scripts.\n",
    "\n",
    "For instance, when running tester_1.py, if any change is made to robot, one of the code blocks below must be run to see the changes to robot that get called by tester_1.py."
   ]
  },
  {
   "cell_type": "code",
   "execution_count": null,
   "metadata": {
    "collapsed": true,
    "scrolled": true
   },
   "outputs": [],
   "source": [
    "%load_ext autoreload\n",
    "%autoreload 2"
   ]
  },
  {
   "cell_type": "code",
   "execution_count": null,
   "metadata": {
    "collapsed": true
   },
   "outputs": [],
   "source": [
    "%reload_ext autoreload\n",
    "%autoreload 2"
   ]
  },
  {
   "cell_type": "markdown",
   "metadata": {},
   "source": [
    "## COVERAGE_RESET_THRESHOLD\n",
    "## Enter a percentage (1 - 100) of the total maze to map before resetting to run 2.\n",
    "## To reset the robot upon finding the goal enter 'goal'. Default will be goal."
   ]
  },
  {
   "cell_type": "code",
   "execution_count": null,
   "metadata": {
    "collapsed": true
   },
   "outputs": [],
   "source": [
    "os.environ['COVERAGE_RESET_THRESHOLD'] = '97'"
   ]
  },
  {
   "cell_type": "code",
   "execution_count": 4,
   "metadata": {
    "collapsed": true
   },
   "outputs": [],
   "source": [
    "os.environ['COVERAGE_RESET_THRESHOLD'] = 'goal'"
   ]
  },
  {
   "cell_type": "markdown",
   "metadata": {},
   "source": [
    "## MAP_STRATEGY\n",
    "## Enter an explore() controller to use for mapping the maze:\n",
    "## 'random', 'avoid dead ends', 'smart map 1', 'smart map 2'\n",
    "## Default will be smart map 2."
   ]
  },
  {
   "cell_type": "code",
   "execution_count": null,
   "metadata": {
    "collapsed": true
   },
   "outputs": [],
   "source": [
    "os.environ['MAP_STRATEGY'] = 'random'"
   ]
  },
  {
   "cell_type": "code",
   "execution_count": null,
   "metadata": {
    "collapsed": true
   },
   "outputs": [],
   "source": [
    "os.environ['MAP_STRATEGY'] = 'avoid dead ends'"
   ]
  },
  {
   "cell_type": "code",
   "execution_count": null,
   "metadata": {
    "collapsed": true
   },
   "outputs": [],
   "source": [
    "os.environ['MAP_STRATEGY'] = 'smart map 1'"
   ]
  },
  {
   "cell_type": "code",
   "execution_count": 5,
   "metadata": {
    "collapsed": true
   },
   "outputs": [],
   "source": [
    "os.environ['MAP_STRATEGY'] = 'smart map 2'"
   ]
  },
  {
   "cell_type": "markdown",
   "metadata": {},
   "source": [
    "## TEST_REPORT \n",
    "## Set to True if you want tester_1.py to return reporting on performance. Default is False."
   ]
  },
  {
   "cell_type": "code",
   "execution_count": null,
   "metadata": {
    "collapsed": true
   },
   "outputs": [],
   "source": [
    "os.environ['TEST_REPORT'] = 'False'"
   ]
  },
  {
   "cell_type": "code",
   "execution_count": 6,
   "metadata": {
    "collapsed": true
   },
   "outputs": [],
   "source": [
    "os.environ['TEST_REPORT'] = 'True'"
   ]
  },
  {
   "cell_type": "markdown",
   "metadata": {},
   "source": [
    "## MAPPER\n",
    "## Robot maps 1 cell at a time or as many as possible based on sensor values:\n",
    "## 'mapper 1', 'mapper 2'"
   ]
  },
  {
   "cell_type": "code",
   "execution_count": null,
   "metadata": {
    "collapsed": true
   },
   "outputs": [],
   "source": [
    "os.environ['MAPPER'] = 'mapper1'"
   ]
  },
  {
   "cell_type": "code",
   "execution_count": 7,
   "metadata": {
    "collapsed": true
   },
   "outputs": [],
   "source": [
    "os.environ['MAPPER'] = 'mapper2'"
   ]
  },
  {
   "cell_type": "markdown",
   "metadata": {},
   "source": [
    "## Choose test maze 1, 2, 3, 4 to run."
   ]
  },
  {
   "cell_type": "code",
   "execution_count": 8,
   "metadata": {
    "scrolled": false
   },
   "outputs": [
    {
     "name": "stdout",
     "output_type": "stream",
     "text": [
      "Coverage reset threshold set to goal.\n",
      "Maze map strategy used is smart map 2.\n",
      "\n",
      "Mapper method is mapper2.\n",
      "\n",
      "Starting run 0.\n",
      "\n",
      "Found Goal in 73 moves.\n",
      "Percent of cell walls mapped until goal found is 70%.\n",
      "\n",
      "Number of walls mapped per cell:\n",
      "[3  1  1  1  1  1  1  1  2  3  4  4]\n",
      "[3  0  0  0  0  0  0  3  4  4  4  4]\n",
      "[3  0  0  0  2  2  3  4  4  3  3  4]\n",
      "[3  0  1  1  4  3  4  4  4  4  4  4]\n",
      "[3  3  4  4  4  4  4  3  3  4  2  2]\n",
      "[4  4  4  4  4  3  4  4  4  4  1  1]\n",
      "[4  4  4  4  4  2  3  4  4  3  0  1]\n",
      "[4  4  4  4  4  4  4  3  2  2  0  1]\n",
      "[4  4  4  4  4  4  4  4  3  0  0  1]\n",
      "[4  4  4  4  4  4  4  4  3  0  0  1]\n",
      "[4  4  4  4  4  4  4  4  1  0  0  1]\n",
      "[4  4  4  4  4  4  4  3  1  1  1  2]\n",
      "\n",
      "Percent of total walls mapped during explore is 70%.\n",
      "Total number of moves for 1st run is 73.\n",
      "\n",
      "Number of times each cell visited:\n",
      "[ 0  0  0  0  0  0  0  0  0  0  1  1]\n",
      "[ 0  0  0  0  0  0  0  0  1  1  1  1]\n",
      "[ 0  0  0  0  0  0  0  1  1  0  0  1]\n",
      "[ 0  0  0  0  0  0  1  1  0  1  1  1]\n",
      "[ 0  0  1  1  1  1  1  0  0  1  0  0]\n",
      "[ 0  1  1  1  1  0  1  1  1  1  0  0]\n",
      "[ 0  1  1  2  1  0  0  1  1  0  0  0]\n",
      "[ 0  2  1  2  2  1  1  0  0  0  0  0]\n",
      "[ 0  2  2  2  0  0  1  1  0  0  0  0]\n",
      "[ 1  1  1  2  1  1  0  1  0  0  0  0]\n",
      "[ 1  0  1  1  1  1  1  1  0  0  0  0]\n",
      "[ 1  0  1  1  1  1  1  0  0  0  0  0]\n",
      "\n",
      "\n",
      "Ending first run. Starting next run.\n",
      "Starting run 1.\n",
      "\n",
      "Route to goal:\n",
      "[-  -  -  -  -  -  -  -  -  -  -  -]\n",
      "[-  -  -  -  -  -  -  -  R  R  -  -]\n",
      "[-  -  -  -  -  -  -  R  L  #  -  -]\n",
      "[-  -  -  -  R  #  #  L  -  #  -  -]\n",
      "[-  -  -  -  #  -  -  -  -  #  -  -]\n",
      "[R  #  R  -  #  -  G  L  L  R  -  -]\n",
      "[#  -  L  R  #  -  -  R  R  -  -  -]\n",
      "[#  -  -  L  L  -  -  -  -  -  -  -]\n",
      "[#  -  -  -  -  -  -  -  -  -  -  -]\n",
      "[#  -  -  -  -  -  -  -  -  -  -  -]\n",
      "[#  -  -  -  -  -  -  -  -  -  -  -]\n",
      "[S  -  -  -  -  -  -  -  -  -  -  -]\n",
      "\n",
      "Total length of route is 33 grid cells.\n",
      "Total movements to goal is 23.\n",
      "Total rotations to goal is 18.\n",
      "Total compute time is 0.08428 seconds.\n",
      "Goal found; run 1 completed!\n",
      "Task complete! Score: 25.433\n"
     ]
    }
   ],
   "source": [
    "%run tester_1.py test_maze_01.txt"
   ]
  },
  {
   "cell_type": "markdown",
   "metadata": {},
   "source": [
    "## Use the command below to open a window that overlays the goal route onto the maze.\n",
    "\n",
    "Either Jupyter or Anaconda is not able to re-open the turtle window with repeated calls. So, it has to be run through the command shell.\n",
    "\n",
    "Click anywhere in the open turtle window to close it."
   ]
  },
  {
   "cell_type": "code",
   "execution_count": 9,
   "metadata": {
    "scrolled": false
   },
   "outputs": [
    {
     "name": "stdout",
     "output_type": "stream",
     "text": [
      "Coverage reset threshold set to goal.\n",
      "Maze map strategy used is smart map 2.\n",
      "\n",
      "Mapper method is mapper2.\n",
      "\n",
      "Starting run 0.\n",
      "\n",
      "Found Goal in 168 moves.\n",
      "Percent of cell walls mapped until goal found is 81%.\n",
      "\n",
      "Number of walls mapped per cell:\n",
      "[3  3  3  4  4  4  4  4  3  2  1  1  1  1  1  2]\n",
      "[1  2  2  4  4  4  4  4  4  3  0  0  0  0  0  1]\n",
      "[1  0  2  4  4  4  4  4  4  4  3  3  4  2  2  2]\n",
      "[1  0  1  4  4  4  4  4  4  4  4  4  4  3  3  4]\n",
      "[1  0  0  1  2  2  4  4  4  4  4  4  4  4  4  4]\n",
      "[1  0  0  0  1  2  4  4  4  4  4  4  4  4  4  4]\n",
      "[1  0  1  2  4  4  4  3  4  4  4  4  4  4  4  4]\n",
      "[1  1  4  4  4  4  4  0  3  4  4  4  4  4  4  4]\n",
      "[1  0  3  4  3  4  4  3  4  4  4  4  4  4  4  4]\n",
      "[1  2  4  4  1  3  4  4  4  4  4  4  4  3  4  4]\n",
      "[1  1  4  4  2  1  4  4  4  4  4  4  2  4  4  4]\n",
      "[3  3  4  4  4  2  1  3  4  4  4  4  3  1  3  4]\n",
      "[4  4  4  4  4  4  3  3  4  4  4  4  4  4  4  4]\n",
      "[4  4  4  4  4  4  4  4  4  4  4  4  4  4  4  4]\n",
      "[4  4  4  4  4  4  4  4  4  4  4  4  4  4  4  4]\n",
      "[4  4  4  4  4  4  4  4  4  4  4  4  4  4  4  4]\n",
      "\n",
      "Percent of total walls mapped during explore is 81%.\n",
      "Total number of moves for 1st run is 168.\n",
      "\n",
      "Number of times each cell visited:\n",
      "[ 0  0  0  1  1  1  1  1  0  0  0  0  0  0  0  0]\n",
      "[ 0  0  0  1  1  1  1  1  1  0  0  0  0  0  0  0]\n",
      "[ 0  0  0  1  1  1  1  1  1  1  0  0  0  0  0  0]\n",
      "[ 0  0  0  1  1  2  2  2  1  1  1  1  1  0  0  0]\n",
      "[ 0  0  0  0  0  0  2  2  1  1  1  1  1  1  1  0]\n",
      "[ 0  0  0  0  0  0  1  1  2  1  1  1  0  0  1  0]\n",
      "[ 0  0  0  0  1  1  1  0  2  2  2  1  1  1  1  0]\n",
      "[ 0  0  2  2  1  1  0  0  0  1  1  1  0  0  0  0]\n",
      "[ 0  0  0  2  0  1  1  0  1  1  1  1  1  1  1  0]\n",
      "[ 0  0  1  2  0  0  2  2  1  1  1  1  0  0  1  0]\n",
      "[ 0  0  1  1  0  0  1  1  1  0  1  1  0  0  1  1]\n",
      "[ 0  0  1  1  1  0  0  0  1  1  1  0  0  0  0  1]\n",
      "[ 1  1  2  1  1  2  0  0  0  1  1  1  1  1  0  1]\n",
      "[ 1  1  2  2  2  2  1  1  1  1  1  1  1  1  0  1]\n",
      "[ 1  1  0  0  0  1  1  1  1  1  1  1  1  1  1  1]\n",
      "[ 1  1  1  1  1  1  0  1  1  1  1  1  0  0  0  0]\n",
      "\n",
      "\n",
      "Ending first run. Starting next run.\n",
      "Starting run 1.\n",
      "\n",
      "Route to goal:\n",
      "[-  -  -  -  -  -  -  -  -  -  -  -  -  -  -  -]\n",
      "[-  -  -  -  -  -  -  -  -  -  -  -  -  -  -  -]\n",
      "[-  -  -  -  -  -  -  -  -  -  -  -  -  -  -  -]\n",
      "[-  -  -  -  -  -  -  -  -  -  -  -  -  -  -  -]\n",
      "[-  -  -  -  -  -  -  -  -  -  -  -  -  -  -  -]\n",
      "[-  -  -  -  -  -  -  -  -  -  -  -  -  -  -  -]\n",
      "[-  -  -  -  -  -  -  -  -  -  -  -  -  -  -  -]\n",
      "[-  -  -  -  -  -  -  -  -  -  -  L  #  #  #  L]\n",
      "[-  -  -  -  -  -  -  -  G  -  L  R  -  -  -  #]\n",
      "[-  -  -  -  -  -  -  -  R  #  R  -  -  -  -  #]\n",
      "[-  -  -  -  -  -  -  -  -  -  -  -  -  -  -  #]\n",
      "[-  -  -  -  -  -  -  -  -  -  -  -  -  -  -  #]\n",
      "[R  #  R  -  -  -  -  -  -  -  -  -  -  -  -  #]\n",
      "[#  L  R  -  -  -  R  #  #  #  R  -  -  -  -  #]\n",
      "[#  #  -  -  -  R  L  L  #  #  R  -  -  -  -  #]\n",
      "[S  L  #  #  #  L  -  L  #  #  #  #  #  #  #  L]\n",
      "\n",
      "Total length of route is 52 grid cells.\n",
      "Total movements to goal is 34.\n",
      "Total rotations to goal is 25.\n",
      "Total compute time is 0.07561 seconds.\n",
      "Goal found; run 1 completed!\n",
      "Task complete! Score: 39.600\n"
     ]
    }
   ],
   "source": [
    "!python tester_1.py test_maze_03.txt showroute"
   ]
  },
  {
   "cell_type": "markdown",
   "metadata": {},
   "source": [
    "## Use the command below to run the solve_maze.py program.\n",
    "## This will take any maze in the particular format for this project and generate a map of the maze that can be used by the A\\* search algorithm to find the shortest route.\n",
    "\n",
    "This is used to help determine whether the robot's mapping and planning algorithms found the fastest possible route.\n",
    "\n",
    "There is also a D\\* Lite search implementation that can be used to verify A\\*."
   ]
  },
  {
   "cell_type": "code",
   "execution_count": 10,
   "metadata": {
    "scrolled": false
   },
   "outputs": [
    {
     "name": "stdout",
     "output_type": "stream",
     "text": [
      "[R  #  #  #  #  #  #  #  #  #  #  R  -  -  -  -]\n",
      "[#  -  -  -  -  -  -  -  -  -  -  #  -  -  -  -]\n",
      "[#  -  -  -  -  -  -  -  -  -  -  #  -  -  R  R]\n",
      "[R  L  -  -  -  -  -  -  -  -  -  L  #  #  L  #]\n",
      "[-  #  -  -  -  -  L  #  #  L  -  -  -  -  -  #]\n",
      "[R  L  -  -  -  -  #  R  #  L  -  -  -  -  -  #]\n",
      "[#  -  -  -  -  -  #  R  #  L  -  -  -  -  -  #]\n",
      "[#  -  -  -  -  -  #  -  -  #  -  -  -  -  -  #]\n",
      "[#  -  -  -  -  -  L  G  -  #  -  -  -  -  -  #]\n",
      "[#  -  -  -  -  -  -  -  -  #  -  -  -  -  -  #]\n",
      "[R  L  -  -  -  -  -  -  -  #  -  -  -  -  -  #]\n",
      "[R  L  -  -  -  -  -  -  -  #  -  -  L  #  #  R]\n",
      "[#  -  -  -  -  -  -  R  #  L  -  -  #  -  -  -]\n",
      "[#  -  -  -  -  -  -  #  -  -  -  -  #  -  -  -]\n",
      "[#  -  -  -  -  R  #  L  -  -  -  -  L  #  #  R]\n",
      "[S  -  -  -  -  R  #  #  #  #  #  #  #  #  #  R]\n",
      "\n",
      "Total length of route is 95 grid cells.\n",
      "Total movements to goal is 61.\n",
      "Total rotations required is 31.\n",
      "Straightness of route is 0.673684210526.\n",
      "Routing cost is 0.968421052632.\n",
      "Total compute time is 0.05731 seconds.\n"
     ]
    }
   ],
   "source": [
    "%run solve_maze test_maze_04.txt"
   ]
  },
  {
   "cell_type": "markdown",
   "metadata": {},
   "source": [
    "## Use the command below to overlay the best route for any maze onto the turtle window display of the maze."
   ]
  },
  {
   "cell_type": "code",
   "execution_count": 11,
   "metadata": {},
   "outputs": [
    {
     "name": "stdout",
     "output_type": "stream",
     "text": [
      "\n",
      "Total length of route is 95 grid cells.\n",
      "Total movements to goal is 61.\n",
      "Total rotations required is 31.\n",
      "Straightness of route is 0.673684210526.\n",
      "Routing cost is 0.968421052632.\n",
      "Total compute time is 29.67 seconds.\n"
     ]
    }
   ],
   "source": [
    "!python solve_maze.py test_maze_04.txt showroute"
   ]
  },
  {
   "cell_type": "markdown",
   "metadata": {
    "collapsed": true
   },
   "source": [
    "## The function below is used to test the random_explore() and avoid_dead_end_explore() methods along with the update_map1() and update_map2() methods with each one.\n",
    "\n",
    "### These results are used to develop a benchmark basis for evaluating the different algorithms."
   ]
  },
  {
   "cell_type": "code",
   "execution_count": 12,
   "metadata": {},
   "outputs": [
    {
     "name": "stdout",
     "output_type": "stream",
     "text": [
      "Running the random explorer and the mapper1 mapper through 500 trials on test_maze_01.txt:\n",
      "robot failed to find goal 68 times with average score of 38.4448036952\n",
      "robot's best score is 25.4666666667 and worst score is 57.2666666667.\n",
      "\n",
      "Running the random explorer and the mapper2 mapper through 500 trials on test_maze_01.txt:\n",
      "robot failed to find goal 73 times with average score of 36.1377725857\n",
      "robot's best score is 24.6 and worst score is 56.1666666667.\n",
      "\n",
      "Running the avoid dead ends explorer and the mapper1 mapper through 500 trials on test_maze_01.txt:\n",
      "robot failed to find goal 51 times with average score of 37.8882962963\n",
      "robot's best score is 25.2333333333 and worst score is 58.6.\n",
      "\n",
      "Running the avoid dead ends explorer and the mapper2 mapper through 500 trials on test_maze_01.txt:\n",
      "robot failed to find goal 51 times with average score of 35.9502962963\n",
      "robot's best score is 24.6 and worst score is 55.9666666667.\n",
      "\n",
      "Running the smart map 1 explorer and the mapper1 mapper through 500 trials on test_maze_01.txt:\n",
      "robot failed to find goal 0 times with average score of 30.3422488357\n",
      "robot's best score is 27.1666666667 and worst score is 33.5333333333.\n",
      "\n",
      "Running the smart map 1 explorer and the mapper2 mapper through 500 trials on test_maze_01.txt:\n",
      "robot failed to find goal 0 times with average score of 26.3073852295\n",
      "robot's best score is 25.4333333333 and worst score is 33.7666666667.\n",
      "\n"
     ]
    }
   ],
   "source": [
    "st.trials('test_maze_01.txt', num = 500)"
   ]
  },
  {
   "cell_type": "code",
   "execution_count": 13,
   "metadata": {},
   "outputs": [
    {
     "name": "stdout",
     "output_type": "stream",
     "text": [
      "Running the random explorer and the mapper1 mapper through 500 trials on test_maze_02.txt:\n",
      "robot failed to find goal 147 times with average score of 50.8512241055\n",
      "robot's best score is 36.6 and worst score is 74.2666666667.\n",
      "\n",
      "Running the random explorer and the mapper2 mapper through 500 trials on test_maze_02.txt:\n",
      "robot failed to find goal 167 times with average score of 47.3294411178\n",
      "robot's best score is 33.5666666667 and worst score is 64.1333333333.\n",
      "\n",
      "Running the avoid dead ends explorer and the mapper1 mapper through 500 trials on test_maze_02.txt:\n",
      "robot failed to find goal 144 times with average score of 50.3399626517\n",
      "robot's best score is 33.7333333333 and worst score is 68.8666666667.\n",
      "\n",
      "Running the avoid dead ends explorer and the mapper2 mapper through 500 trials on test_maze_02.txt:\n",
      "robot failed to find goal 140 times with average score of 47.0783933518\n",
      "robot's best score is 33.9333333333 and worst score is 64.1666666667.\n",
      "\n",
      "Running the smart map 1 explorer and the mapper1 mapper through 500 trials on test_maze_02.txt:\n",
      "robot failed to find goal 0 times with average score of 49.2322687957\n",
      "robot's best score is 38.9 and worst score is 61.2.\n",
      "\n",
      "Running the smart map 1 explorer and the mapper2 mapper through 500 trials on test_maze_02.txt:\n",
      "robot failed to find goal 0 times with average score of 38.6075848303\n",
      "robot's best score is 34.4 and worst score is 52.4666666667.\n",
      "\n"
     ]
    }
   ],
   "source": [
    "st.trials('test_maze_02.txt', num = 500)"
   ]
  },
  {
   "cell_type": "code",
   "execution_count": 14,
   "metadata": {
    "scrolled": false
   },
   "outputs": [
    {
     "name": "stdout",
     "output_type": "stream",
     "text": [
      "Running the random explorer and the mapper1 mapper through 500 trials on test_maze_03.txt:\n",
      "robot failed to find goal 152 times with average score of 51.8262655205\n",
      "robot's best score is 35.9666666667 and worst score is 79.9.\n",
      "\n",
      "Running the random explorer and the mapper2 mapper through 500 trials on test_maze_03.txt:\n",
      "robot failed to find goal 146 times with average score of 49.2731455399\n",
      "robot's best score is 34.5333333333 and worst score is 65.6.\n",
      "\n",
      "Running the avoid dead ends explorer and the mapper1 mapper through 500 trials on test_maze_03.txt:\n",
      "robot failed to find goal 138 times with average score of 51.2981634527\n",
      "robot's best score is 36.2333333333 and worst score is 73.8333333333.\n",
      "\n",
      "Running the avoid dead ends explorer and the mapper2 mapper through 500 trials on test_maze_03.txt:\n",
      "robot failed to find goal 155 times with average score of 49.5665703276\n",
      "robot's best score is 35.4666666667 and worst score is 65.8.\n",
      "\n",
      "Running the smart map 1 explorer and the mapper1 mapper through 500 trials on test_maze_03.txt:\n",
      "robot failed to find goal 0 times with average score of 49.0427811045\n",
      "robot's best score is 43.2333333333 and worst score is 71.5333333333.\n",
      "\n",
      "Running the smart map 1 explorer and the mapper2 mapper through 500 trials on test_maze_03.txt:\n",
      "robot failed to find goal 0 times with average score of 40.3904191617\n",
      "robot's best score is 39.2666666667 and worst score is 51.6333333333.\n",
      "\n"
     ]
    }
   ],
   "source": [
    "st.trials('test_maze_03.txt', num = 500)"
   ]
  },
  {
   "cell_type": "code",
   "execution_count": 15,
   "metadata": {
    "scrolled": false
   },
   "outputs": [
    {
     "name": "stdout",
     "output_type": "stream",
     "text": [
      "Running the random explorer and the mapper1 mapper through 500 trials on test_maze_04.txt:\n",
      "robot failed to find goal 250 times with average score of 87.6796812749\n",
      "robot's best score is 68.1 and worst score is 115.233333333.\n",
      "\n",
      "Running the random explorer and the mapper2 mapper through 500 trials on test_maze_04.txt:\n",
      "robot failed to find goal 235 times with average score of 84.0266917293\n",
      "robot's best score is 68.6 and worst score is 102.2.\n",
      "\n",
      "Running the avoid dead ends explorer and the mapper1 mapper through 500 trials on test_maze_04.txt:\n",
      "robot failed to find goal 213 times with average score of 87.3180555556\n",
      "robot's best score is 69.4333333333 and worst score is 126.8.\n",
      "\n",
      "Running the avoid dead ends explorer and the mapper2 mapper through 500 trials on test_maze_04.txt:\n",
      "robot failed to find goal 210 times with average score of 84.4564719359\n",
      "robot's best score is 68.2666666667 and worst score is 104.566666667.\n",
      "\n",
      "Running the smart map 1 explorer and the mapper1 mapper through 500 trials on test_maze_04.txt:\n",
      "robot failed to find goal 0 times with average score of 80.9380572189\n",
      "robot's best score is 76.9333333333 and worst score is 90.2333333333.\n",
      "\n",
      "Running the smart map 1 explorer and the mapper2 mapper through 500 trials on test_maze_04.txt:\n",
      "robot failed to find goal 0 times with average score of 81.2608782435\n",
      "robot's best score is 74.0666666667 and worst score is 91.0.\n",
      "\n"
     ]
    }
   ],
   "source": [
    "st.trials('test_maze_04.txt', num = 500)"
   ]
  },
  {
   "cell_type": "code",
   "execution_count": null,
   "metadata": {
    "collapsed": true
   },
   "outputs": [],
   "source": []
  }
 ],
 "metadata": {
  "kernelspec": {
   "display_name": "Python 2",
   "language": "python",
   "name": "python2"
  },
  "language_info": {
   "codemirror_mode": {
    "name": "ipython",
    "version": 2
   },
   "file_extension": ".py",
   "mimetype": "text/x-python",
   "name": "python",
   "nbconvert_exporter": "python",
   "pygments_lexer": "ipython2",
   "version": "2.7.13"
  }
 },
 "nbformat": 4,
 "nbformat_minor": 2
}
